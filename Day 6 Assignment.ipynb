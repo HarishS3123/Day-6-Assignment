{
 "cells": [
  {
   "cell_type": "code",
   "execution_count": 1,
   "id": "e37bef71",
   "metadata": {},
   "outputs": [],
   "source": [
    "import numpy as np\n",
    "import pandas as pd\n",
    "from numpy import mean,std\n",
    "import matplotlib.pyplot as pp\n",
    "from numpy import cov\n",
    "from scipy.stats import pearsonr\n",
    "from scipy.stats import spearmanr"
   ]
  },
  {
   "cell_type": "markdown",
   "id": "e0698680",
   "metadata": {},
   "source": [
    "# Data Set 1"
   ]
  },
  {
   "cell_type": "code",
   "execution_count": 41,
   "id": "c48173c3",
   "metadata": {},
   "outputs": [],
   "source": [
    "a=pd.read_csv(r\"C:\\Users\\user\\Downloads\\2015 - 2015.csv\")"
   ]
  },
  {
   "cell_type": "markdown",
   "id": "6a56c032",
   "metadata": {},
   "source": [
    "# a) Find mean, median, mode and describe"
   ]
  },
  {
   "cell_type": "code",
   "execution_count": 3,
   "id": "13cf9f92",
   "metadata": {},
   "outputs": [
    {
     "name": "stdout",
     "output_type": "stream",
     "text": [
      "Happiness Rank                   79.493671\n",
      "Happiness Score                   5.375734\n",
      "Standard Error                    0.047885\n",
      "Economy (GDP per Capita)          0.846137\n",
      "Family                            0.991046\n",
      "Health (Life Expectancy)          0.630259\n",
      "Freedom                           0.428615\n",
      "Trust (Government Corruption)     0.143422\n",
      "Generosity                        0.237296\n",
      "Dystopia Residual                 2.098977\n",
      "dtype: float64\n"
     ]
    }
   ],
   "source": [
    "print(a.mean())"
   ]
  },
  {
   "cell_type": "code",
   "execution_count": 4,
   "id": "d1beed47",
   "metadata": {},
   "outputs": [
    {
     "name": "stdout",
     "output_type": "stream",
     "text": [
      "Happiness Rank                   79.500000\n",
      "Happiness Score                   5.232500\n",
      "Standard Error                    0.043940\n",
      "Economy (GDP per Capita)          0.910245\n",
      "Family                            1.029510\n",
      "Health (Life Expectancy)          0.696705\n",
      "Freedom                           0.435515\n",
      "Trust (Government Corruption)     0.107220\n",
      "Generosity                        0.216130\n",
      "Dystopia Residual                 2.095415\n",
      "dtype: float64\n"
     ]
    }
   ],
   "source": [
    "print(a.median())"
   ]
  },
  {
   "cell_type": "code",
   "execution_count": 5,
   "id": "5c78ab4c",
   "metadata": {},
   "outputs": [
    {
     "name": "stdout",
     "output_type": "stream",
     "text": [
      "         Country              Region  Happiness Rank  Happiness Score  \\\n",
      "0    Afghanistan  Sub-Saharan Africa            82.0            5.192   \n",
      "1        Albania                 NaN             NaN              NaN   \n",
      "2        Algeria                 NaN             NaN              NaN   \n",
      "3         Angola                 NaN             NaN              NaN   \n",
      "4      Argentina                 NaN             NaN              NaN   \n",
      "..           ...                 ...             ...              ...   \n",
      "153    Venezuela                 NaN             NaN              NaN   \n",
      "154      Vietnam                 NaN             NaN              NaN   \n",
      "155        Yemen                 NaN             NaN              NaN   \n",
      "156       Zambia                 NaN             NaN              NaN   \n",
      "157     Zimbabwe                 NaN             NaN              NaN   \n",
      "\n",
      "     Standard Error  Economy (GDP per Capita)   Family  \\\n",
      "0           0.03751                   0.00000  0.00000   \n",
      "1           0.03780                   0.01530  0.13995   \n",
      "2           0.04394                   0.01604  0.30285   \n",
      "3           0.04934                   0.06940  0.35386   \n",
      "4           0.05051                   0.07120  0.38174   \n",
      "..              ...                       ...      ...   \n",
      "153             NaN                   1.45900  1.34043   \n",
      "154             NaN                   1.52186  1.34951   \n",
      "155             NaN                   1.55422  1.36058   \n",
      "156             NaN                   1.56391  1.36948   \n",
      "157             NaN                   1.69042  1.40223   \n",
      "\n",
      "     Health (Life Expectancy)  Freedom  Trust (Government Corruption)  \\\n",
      "0                     0.92356  0.00000                        0.32524   \n",
      "1                         NaN  0.07699                            NaN   \n",
      "2                         NaN  0.09245                            NaN   \n",
      "3                         NaN  0.10081                            NaN   \n",
      "4                         NaN  0.10384                            NaN   \n",
      "..                        ...      ...                            ...   \n",
      "153                       NaN  0.65821                            NaN   \n",
      "154                       NaN  0.65980                            NaN   \n",
      "155                       NaN  0.66246                            NaN   \n",
      "156                       NaN  0.66557                            NaN   \n",
      "157                       NaN  0.66973                            NaN   \n",
      "\n",
      "     Generosity  Dystopia Residual  \n",
      "0       0.00000            0.32858  \n",
      "1       0.00199            0.65429  \n",
      "2       0.02641            0.67042  \n",
      "3       0.05444            0.67108  \n",
      "4       0.05547            0.89991  \n",
      "..          ...                ...  \n",
      "153     0.51535            3.10712  \n",
      "154     0.51752            3.17728  \n",
      "155     0.51912            3.19131  \n",
      "156     0.57630            3.26001  \n",
      "157     0.79588            3.60214  \n",
      "\n",
      "[158 rows x 12 columns]\n"
     ]
    }
   ],
   "source": [
    "print(a.mode())"
   ]
  },
  {
   "cell_type": "code",
   "execution_count": 6,
   "id": "e91162cb",
   "metadata": {},
   "outputs": [
    {
     "name": "stdout",
     "output_type": "stream",
     "text": [
      "       Happiness Rank  Happiness Score  Standard Error  \\\n",
      "count      158.000000       158.000000      158.000000   \n",
      "mean        79.493671         5.375734        0.047885   \n",
      "std         45.754363         1.145010        0.017146   \n",
      "min          1.000000         2.839000        0.018480   \n",
      "25%         40.250000         4.526000        0.037268   \n",
      "50%         79.500000         5.232500        0.043940   \n",
      "75%        118.750000         6.243750        0.052300   \n",
      "max        158.000000         7.587000        0.136930   \n",
      "\n",
      "       Economy (GDP per Capita)      Family  Health (Life Expectancy)  \\\n",
      "count                158.000000  158.000000                158.000000   \n",
      "mean                   0.846137    0.991046                  0.630259   \n",
      "std                    0.403121    0.272369                  0.247078   \n",
      "min                    0.000000    0.000000                  0.000000   \n",
      "25%                    0.545808    0.856823                  0.439185   \n",
      "50%                    0.910245    1.029510                  0.696705   \n",
      "75%                    1.158448    1.214405                  0.811013   \n",
      "max                    1.690420    1.402230                  1.025250   \n",
      "\n",
      "          Freedom  Trust (Government Corruption)  Generosity  \\\n",
      "count  158.000000                     158.000000  158.000000   \n",
      "mean     0.428615                       0.143422    0.237296   \n",
      "std      0.150693                       0.120034    0.126685   \n",
      "min      0.000000                       0.000000    0.000000   \n",
      "25%      0.328330                       0.061675    0.150553   \n",
      "50%      0.435515                       0.107220    0.216130   \n",
      "75%      0.549092                       0.180255    0.309883   \n",
      "max      0.669730                       0.551910    0.795880   \n",
      "\n",
      "       Dystopia Residual  \n",
      "count         158.000000  \n",
      "mean            2.098977  \n",
      "std             0.553550  \n",
      "min             0.328580  \n",
      "25%             1.759410  \n",
      "50%             2.095415  \n",
      "75%             2.462415  \n",
      "max             3.602140  \n"
     ]
    }
   ],
   "source": [
    "print(a.describe())"
   ]
  },
  {
   "cell_type": "markdown",
   "id": "784a2284",
   "metadata": {},
   "source": [
    "# b) Find sum(), cumsum(), count, min and max values"
   ]
  },
  {
   "cell_type": "code",
   "execution_count": 8,
   "id": "185246a9",
   "metadata": {},
   "outputs": [
    {
     "name": "stdout",
     "output_type": "stream",
     "text": [
      "Happiness Score    849.36600\n",
      "Standard Error       7.56579\n",
      "dtype: float64\n"
     ]
    }
   ],
   "source": [
    "b=a[['Happiness Score','Standard Error']]\n",
    "print(b.sum())"
   ]
  },
  {
   "cell_type": "code",
   "execution_count": 9,
   "id": "cac71ffe",
   "metadata": {},
   "outputs": [
    {
     "name": "stdout",
     "output_type": "stream",
     "text": [
      "     Happiness Score  Standard Error\n",
      "0              7.587         0.03411\n",
      "1             15.148         0.08295\n",
      "2             22.675         0.11623\n",
      "3             30.197         0.15503\n",
      "4             37.624         0.19056\n",
      "..               ...             ...\n",
      "153          837.276         7.32523\n",
      "154          840.616         7.36179\n",
      "155          843.622         7.41194\n",
      "156          846.527         7.49852\n",
      "157          849.366         7.56579\n",
      "\n",
      "[158 rows x 2 columns]\n"
     ]
    }
   ],
   "source": [
    "print(b.cumsum())"
   ]
  },
  {
   "cell_type": "code",
   "execution_count": 10,
   "id": "e02e0bde",
   "metadata": {},
   "outputs": [
    {
     "name": "stdout",
     "output_type": "stream",
     "text": [
      "Happiness Score    158\n",
      "Standard Error     158\n",
      "dtype: int64\n"
     ]
    }
   ],
   "source": [
    "print(b.count())"
   ]
  },
  {
   "cell_type": "code",
   "execution_count": 11,
   "id": "46dac604",
   "metadata": {},
   "outputs": [
    {
     "name": "stdout",
     "output_type": "stream",
     "text": [
      "Happiness Score    2.83900\n",
      "Standard Error     0.01848\n",
      "dtype: float64\n"
     ]
    }
   ],
   "source": [
    "print(b.min())"
   ]
  },
  {
   "cell_type": "code",
   "execution_count": 12,
   "id": "532623f7",
   "metadata": {},
   "outputs": [
    {
     "name": "stdout",
     "output_type": "stream",
     "text": [
      "Happiness Score    7.58700\n",
      "Standard Error     0.13693\n",
      "dtype: float64\n"
     ]
    }
   ],
   "source": [
    "print(b.max())"
   ]
  },
  {
   "cell_type": "markdown",
   "id": "183742b7",
   "metadata": {},
   "source": [
    "# c) Find covariance and correlation (spearman and pearsons)"
   ]
  },
  {
   "cell_type": "code",
   "execution_count": 38,
   "id": "8552f2e9",
   "metadata": {},
   "outputs": [
    {
     "name": "stdout",
     "output_type": "stream",
     "text": [
      "[[ 1.31104821e+00 -3.47994395e-03]\n",
      " [-3.47994395e-03  2.93991439e-04]]\n"
     ]
    }
   ],
   "source": [
    "d1=a['Happiness Score']\n",
    "d2=a['Standard Error']\n",
    "print(cov(d1,d2))"
   ]
  },
  {
   "cell_type": "code",
   "execution_count": 39,
   "id": "c69e70ee",
   "metadata": {},
   "outputs": [
    {
     "name": "stdout",
     "output_type": "stream",
     "text": [
      "(-0.17725380900494764, 0.02587868479253323)\n"
     ]
    }
   ],
   "source": [
    "print(pearsonr(d1,d2))"
   ]
  },
  {
   "cell_type": "code",
   "execution_count": 40,
   "id": "0d291329",
   "metadata": {},
   "outputs": [
    {
     "name": "stdout",
     "output_type": "stream",
     "text": [
      "SpearmanrResult(correlation=-0.21519846171732626, pvalue=0.006619286429972024)\n"
     ]
    }
   ],
   "source": [
    "print(spearmanr(d1,d2))"
   ]
  },
  {
   "cell_type": "markdown",
   "id": "069aa211",
   "metadata": {},
   "source": [
    "# Data Set 2"
   ]
  },
  {
   "cell_type": "code",
   "execution_count": 48,
   "id": "2571c5ec",
   "metadata": {},
   "outputs": [
    {
     "data": {
      "text/html": [
       "<div>\n",
       "<style scoped>\n",
       "    .dataframe tbody tr th:only-of-type {\n",
       "        vertical-align: middle;\n",
       "    }\n",
       "\n",
       "    .dataframe tbody tr th {\n",
       "        vertical-align: top;\n",
       "    }\n",
       "\n",
       "    .dataframe thead th {\n",
       "        text-align: right;\n",
       "    }\n",
       "</style>\n",
       "<table border=\"1\" class=\"dataframe\">\n",
       "  <thead>\n",
       "    <tr style=\"text-align: right;\">\n",
       "      <th></th>\n",
       "      <th>ID</th>\n",
       "      <th>model</th>\n",
       "      <th>engine_power</th>\n",
       "      <th>age_in_days</th>\n",
       "      <th>km</th>\n",
       "      <th>previous_owners</th>\n",
       "      <th>lat</th>\n",
       "      <th>lon</th>\n",
       "      <th>price</th>\n",
       "      <th>Unnamed: 9</th>\n",
       "      <th>Unnamed: 10</th>\n",
       "    </tr>\n",
       "  </thead>\n",
       "  <tbody>\n",
       "    <tr>\n",
       "      <th>0</th>\n",
       "      <td>1.0</td>\n",
       "      <td>lounge</td>\n",
       "      <td>51.0</td>\n",
       "      <td>882.0</td>\n",
       "      <td>25000.0</td>\n",
       "      <td>1.0</td>\n",
       "      <td>44.907242</td>\n",
       "      <td>8.611559868</td>\n",
       "      <td>8900</td>\n",
       "      <td>NaN</td>\n",
       "      <td>NaN</td>\n",
       "    </tr>\n",
       "    <tr>\n",
       "      <th>1</th>\n",
       "      <td>2.0</td>\n",
       "      <td>pop</td>\n",
       "      <td>51.0</td>\n",
       "      <td>1186.0</td>\n",
       "      <td>32500.0</td>\n",
       "      <td>1.0</td>\n",
       "      <td>45.666359</td>\n",
       "      <td>12.24188995</td>\n",
       "      <td>8800</td>\n",
       "      <td>NaN</td>\n",
       "      <td>NaN</td>\n",
       "    </tr>\n",
       "    <tr>\n",
       "      <th>2</th>\n",
       "      <td>3.0</td>\n",
       "      <td>sport</td>\n",
       "      <td>74.0</td>\n",
       "      <td>4658.0</td>\n",
       "      <td>142228.0</td>\n",
       "      <td>1.0</td>\n",
       "      <td>45.503300</td>\n",
       "      <td>11.41784</td>\n",
       "      <td>4200</td>\n",
       "      <td>NaN</td>\n",
       "      <td>NaN</td>\n",
       "    </tr>\n",
       "    <tr>\n",
       "      <th>3</th>\n",
       "      <td>4.0</td>\n",
       "      <td>lounge</td>\n",
       "      <td>51.0</td>\n",
       "      <td>2739.0</td>\n",
       "      <td>160000.0</td>\n",
       "      <td>1.0</td>\n",
       "      <td>40.633171</td>\n",
       "      <td>17.63460922</td>\n",
       "      <td>6000</td>\n",
       "      <td>NaN</td>\n",
       "      <td>NaN</td>\n",
       "    </tr>\n",
       "    <tr>\n",
       "      <th>4</th>\n",
       "      <td>5.0</td>\n",
       "      <td>pop</td>\n",
       "      <td>73.0</td>\n",
       "      <td>3074.0</td>\n",
       "      <td>106880.0</td>\n",
       "      <td>1.0</td>\n",
       "      <td>41.903221</td>\n",
       "      <td>12.49565029</td>\n",
       "      <td>5700</td>\n",
       "      <td>NaN</td>\n",
       "      <td>NaN</td>\n",
       "    </tr>\n",
       "    <tr>\n",
       "      <th>...</th>\n",
       "      <td>...</td>\n",
       "      <td>...</td>\n",
       "      <td>...</td>\n",
       "      <td>...</td>\n",
       "      <td>...</td>\n",
       "      <td>...</td>\n",
       "      <td>...</td>\n",
       "      <td>...</td>\n",
       "      <td>...</td>\n",
       "      <td>...</td>\n",
       "      <td>...</td>\n",
       "    </tr>\n",
       "    <tr>\n",
       "      <th>1544</th>\n",
       "      <td>NaN</td>\n",
       "      <td>NaN</td>\n",
       "      <td>NaN</td>\n",
       "      <td>NaN</td>\n",
       "      <td>NaN</td>\n",
       "      <td>NaN</td>\n",
       "      <td>NaN</td>\n",
       "      <td>length</td>\n",
       "      <td>5</td>\n",
       "      <td>NaN</td>\n",
       "      <td>NaN</td>\n",
       "    </tr>\n",
       "    <tr>\n",
       "      <th>1545</th>\n",
       "      <td>NaN</td>\n",
       "      <td>NaN</td>\n",
       "      <td>NaN</td>\n",
       "      <td>NaN</td>\n",
       "      <td>NaN</td>\n",
       "      <td>NaN</td>\n",
       "      <td>NaN</td>\n",
       "      <td>concat</td>\n",
       "      <td>lonprice</td>\n",
       "      <td>NaN</td>\n",
       "      <td>NaN</td>\n",
       "    </tr>\n",
       "    <tr>\n",
       "      <th>1546</th>\n",
       "      <td>NaN</td>\n",
       "      <td>NaN</td>\n",
       "      <td>NaN</td>\n",
       "      <td>NaN</td>\n",
       "      <td>NaN</td>\n",
       "      <td>NaN</td>\n",
       "      <td>NaN</td>\n",
       "      <td>Null values</td>\n",
       "      <td>NO</td>\n",
       "      <td>NaN</td>\n",
       "      <td>NaN</td>\n",
       "    </tr>\n",
       "    <tr>\n",
       "      <th>1547</th>\n",
       "      <td>NaN</td>\n",
       "      <td>NaN</td>\n",
       "      <td>NaN</td>\n",
       "      <td>NaN</td>\n",
       "      <td>NaN</td>\n",
       "      <td>NaN</td>\n",
       "      <td>NaN</td>\n",
       "      <td>find</td>\n",
       "      <td>1</td>\n",
       "      <td>NaN</td>\n",
       "      <td>NaN</td>\n",
       "    </tr>\n",
       "    <tr>\n",
       "      <th>1548</th>\n",
       "      <td>NaN</td>\n",
       "      <td>NaN</td>\n",
       "      <td>NaN</td>\n",
       "      <td>NaN</td>\n",
       "      <td>NaN</td>\n",
       "      <td>NaN</td>\n",
       "      <td>NaN</td>\n",
       "      <td>search</td>\n",
       "      <td>1</td>\n",
       "      <td>NaN</td>\n",
       "      <td>NaN</td>\n",
       "    </tr>\n",
       "  </tbody>\n",
       "</table>\n",
       "<p>1549 rows × 11 columns</p>\n",
       "</div>"
      ],
      "text/plain": [
       "       ID   model  engine_power  age_in_days        km  previous_owners  \\\n",
       "0     1.0  lounge          51.0        882.0   25000.0              1.0   \n",
       "1     2.0     pop          51.0       1186.0   32500.0              1.0   \n",
       "2     3.0   sport          74.0       4658.0  142228.0              1.0   \n",
       "3     4.0  lounge          51.0       2739.0  160000.0              1.0   \n",
       "4     5.0     pop          73.0       3074.0  106880.0              1.0   \n",
       "...   ...     ...           ...          ...       ...              ...   \n",
       "1544  NaN     NaN           NaN          NaN       NaN              NaN   \n",
       "1545  NaN     NaN           NaN          NaN       NaN              NaN   \n",
       "1546  NaN     NaN           NaN          NaN       NaN              NaN   \n",
       "1547  NaN     NaN           NaN          NaN       NaN              NaN   \n",
       "1548  NaN     NaN           NaN          NaN       NaN              NaN   \n",
       "\n",
       "            lat          lon     price  Unnamed: 9 Unnamed: 10  \n",
       "0     44.907242  8.611559868      8900         NaN         NaN  \n",
       "1     45.666359  12.24188995      8800         NaN         NaN  \n",
       "2     45.503300     11.41784      4200         NaN         NaN  \n",
       "3     40.633171  17.63460922      6000         NaN         NaN  \n",
       "4     41.903221  12.49565029      5700         NaN         NaN  \n",
       "...         ...          ...       ...         ...         ...  \n",
       "1544        NaN       length         5         NaN         NaN  \n",
       "1545        NaN       concat  lonprice         NaN         NaN  \n",
       "1546        NaN  Null values        NO         NaN         NaN  \n",
       "1547        NaN         find         1         NaN         NaN  \n",
       "1548        NaN       search         1         NaN         NaN  \n",
       "\n",
       "[1549 rows x 11 columns]"
      ]
     },
     "execution_count": 48,
     "metadata": {},
     "output_type": "execute_result"
    }
   ],
   "source": [
    "a1=pd.read_csv(r\"C:\\Users\\user\\Downloads\\Vehicle.csv\")\n",
    "a1"
   ]
  },
  {
   "cell_type": "markdown",
   "id": "80d3dd01",
   "metadata": {},
   "source": [
    "# a) Find mean, median, mode and describe"
   ]
  },
  {
   "cell_type": "code",
   "execution_count": 27,
   "id": "91a0147c",
   "metadata": {},
   "outputs": [
    {
     "name": "stdout",
     "output_type": "stream",
     "text": [
      "ID                   769.500000\n",
      "engine_power          51.904421\n",
      "age_in_days         1650.980494\n",
      "km                 53396.011704\n",
      "previous_owners        1.123537\n",
      "lat                   43.541361\n",
      "Unnamed: 9                  NaN\n",
      "dtype: float64\n"
     ]
    }
   ],
   "source": [
    "print(a1.mean())"
   ]
  },
  {
   "cell_type": "code",
   "execution_count": 28,
   "id": "6f1676e4",
   "metadata": {},
   "outputs": [
    {
     "name": "stdout",
     "output_type": "stream",
     "text": [
      "ID                   769.500000\n",
      "engine_power          51.000000\n",
      "age_in_days         1035.000000\n",
      "km                 39031.000000\n",
      "previous_owners        1.000000\n",
      "lat                   44.394096\n",
      "Unnamed: 9                  NaN\n",
      "dtype: float64\n"
     ]
    }
   ],
   "source": [
    "print(a1.median())"
   ]
  },
  {
   "cell_type": "code",
   "execution_count": 29,
   "id": "a514c9e7",
   "metadata": {},
   "outputs": [
    {
     "name": "stdout",
     "output_type": "stream",
     "text": [
      "          ID   model  engine_power  age_in_days       km  previous_owners  \\\n",
      "0        1.0  lounge          51.0        366.0  17000.0              1.0   \n",
      "1        2.0     NaN           NaN        790.0      NaN              NaN   \n",
      "2        3.0     NaN           NaN          NaN      NaN              NaN   \n",
      "3        4.0     NaN           NaN          NaN      NaN              NaN   \n",
      "4        5.0     NaN           NaN          NaN      NaN              NaN   \n",
      "...      ...     ...           ...          ...      ...              ...   \n",
      "1533  1534.0     NaN           NaN          NaN      NaN              NaN   \n",
      "1534  1535.0     NaN           NaN          NaN      NaN              NaN   \n",
      "1535  1536.0     NaN           NaN          NaN      NaN              NaN   \n",
      "1536  1537.0     NaN           NaN          NaN      NaN              NaN   \n",
      "1537  1538.0     NaN           NaN          NaN      NaN              NaN   \n",
      "\n",
      "            lat          lon  price  Unnamed: 9 Unnamed: 10  \n",
      "0     41.903221  12.49565029  10500         NaN      >10000  \n",
      "1           NaN          NaN    NaN         NaN         NaN  \n",
      "2           NaN          NaN    NaN         NaN         NaN  \n",
      "3           NaN          NaN    NaN         NaN         NaN  \n",
      "4           NaN          NaN    NaN         NaN         NaN  \n",
      "...         ...          ...    ...         ...         ...  \n",
      "1533        NaN          NaN    NaN         NaN         NaN  \n",
      "1534        NaN          NaN    NaN         NaN         NaN  \n",
      "1535        NaN          NaN    NaN         NaN         NaN  \n",
      "1536        NaN          NaN    NaN         NaN         NaN  \n",
      "1537        NaN          NaN    NaN         NaN         NaN  \n",
      "\n",
      "[1538 rows x 11 columns]\n"
     ]
    }
   ],
   "source": [
    "print(a1.mode())"
   ]
  },
  {
   "cell_type": "code",
   "execution_count": 30,
   "id": "911ad914",
   "metadata": {},
   "outputs": [
    {
     "name": "stdout",
     "output_type": "stream",
     "text": [
      "          ID   model  engine_power  age_in_days       km  previous_owners  \\\n",
      "0        1.0  lounge          51.0        366.0  17000.0              1.0   \n",
      "1        2.0     NaN           NaN        790.0      NaN              NaN   \n",
      "2        3.0     NaN           NaN          NaN      NaN              NaN   \n",
      "3        4.0     NaN           NaN          NaN      NaN              NaN   \n",
      "4        5.0     NaN           NaN          NaN      NaN              NaN   \n",
      "...      ...     ...           ...          ...      ...              ...   \n",
      "1533  1534.0     NaN           NaN          NaN      NaN              NaN   \n",
      "1534  1535.0     NaN           NaN          NaN      NaN              NaN   \n",
      "1535  1536.0     NaN           NaN          NaN      NaN              NaN   \n",
      "1536  1537.0     NaN           NaN          NaN      NaN              NaN   \n",
      "1537  1538.0     NaN           NaN          NaN      NaN              NaN   \n",
      "\n",
      "            lat          lon  price  Unnamed: 9 Unnamed: 10  \n",
      "0     41.903221  12.49565029  10500         NaN      >10000  \n",
      "1           NaN          NaN    NaN         NaN         NaN  \n",
      "2           NaN          NaN    NaN         NaN         NaN  \n",
      "3           NaN          NaN    NaN         NaN         NaN  \n",
      "4           NaN          NaN    NaN         NaN         NaN  \n",
      "...         ...          ...    ...         ...         ...  \n",
      "1533        NaN          NaN    NaN         NaN         NaN  \n",
      "1534        NaN          NaN    NaN         NaN         NaN  \n",
      "1535        NaN          NaN    NaN         NaN         NaN  \n",
      "1536        NaN          NaN    NaN         NaN         NaN  \n",
      "1537        NaN          NaN    NaN         NaN         NaN  \n",
      "\n",
      "[1538 rows x 11 columns]\n"
     ]
    }
   ],
   "source": [
    "print(a1.mode())"
   ]
  },
  {
   "cell_type": "markdown",
   "id": "d42e91e2",
   "metadata": {},
   "source": [
    "# b) Find sum(), cumsum(), count, min and max values"
   ]
  },
  {
   "cell_type": "code",
   "execution_count": 32,
   "id": "85645f30",
   "metadata": {},
   "outputs": [
    {
     "name": "stdout",
     "output_type": "stream",
     "text": [
      "engine_power       79829.0\n",
      "km              82123066.0\n",
      "dtype: float64\n"
     ]
    }
   ],
   "source": [
    "b1=a1[['engine_power','km']]\n",
    "print(b1.sum())"
   ]
  },
  {
   "cell_type": "code",
   "execution_count": 33,
   "id": "3db7a1ea",
   "metadata": {},
   "outputs": [
    {
     "name": "stdout",
     "output_type": "stream",
     "text": [
      "      engine_power        km\n",
      "0             51.0   25000.0\n",
      "1            102.0   57500.0\n",
      "2            176.0  199728.0\n",
      "3            227.0  359728.0\n",
      "4            300.0  466608.0\n",
      "...            ...       ...\n",
      "1544           NaN       NaN\n",
      "1545           NaN       NaN\n",
      "1546           NaN       NaN\n",
      "1547           NaN       NaN\n",
      "1548           NaN       NaN\n",
      "\n",
      "[1549 rows x 2 columns]\n"
     ]
    }
   ],
   "source": [
    "print(b1.cumsum())"
   ]
  },
  {
   "cell_type": "code",
   "execution_count": 34,
   "id": "8113a7fb",
   "metadata": {},
   "outputs": [
    {
     "name": "stdout",
     "output_type": "stream",
     "text": [
      "engine_power    1538\n",
      "km              1538\n",
      "dtype: int64\n"
     ]
    }
   ],
   "source": [
    "print(b1.count())"
   ]
  },
  {
   "cell_type": "code",
   "execution_count": 35,
   "id": "014c1b31",
   "metadata": {},
   "outputs": [
    {
     "name": "stdout",
     "output_type": "stream",
     "text": [
      "engine_power      51.0\n",
      "km              1232.0\n",
      "dtype: float64\n"
     ]
    }
   ],
   "source": [
    "print(b1.min())"
   ]
  },
  {
   "cell_type": "code",
   "execution_count": 36,
   "id": "ff0885fe",
   "metadata": {},
   "outputs": [
    {
     "name": "stdout",
     "output_type": "stream",
     "text": [
      "engine_power        77.0\n",
      "km              235000.0\n",
      "dtype: float64\n"
     ]
    }
   ],
   "source": [
    "print(b1.max())"
   ]
  },
  {
   "cell_type": "code",
   "execution_count": 53,
   "id": "630fcddd",
   "metadata": {},
   "outputs": [
    {
     "name": "stdout",
     "output_type": "stream",
     "text": [
      "       ID   model  engine_power  age_in_days        km  previous_owners  \\\n",
      "0     1.0  lounge          51.0        882.0   25000.0              1.0   \n",
      "1     2.0     pop          51.0       1186.0   32500.0              1.0   \n",
      "2     3.0   sport          74.0       4658.0  142228.0              1.0   \n",
      "3     4.0  lounge          51.0       2739.0  160000.0              1.0   \n",
      "4     5.0     pop          73.0       3074.0  106880.0              1.0   \n",
      "...   ...     ...           ...          ...       ...              ...   \n",
      "1544  3.0       3           3.0          3.0       3.0              3.0   \n",
      "1545  3.0       3           3.0          3.0       3.0              3.0   \n",
      "1546  3.0       3           3.0          3.0       3.0              3.0   \n",
      "1547  3.0       3           3.0          3.0       3.0              3.0   \n",
      "1548  3.0       3           3.0          3.0       3.0              3.0   \n",
      "\n",
      "            lat          lon     price  Unnamed: 9 Unnamed: 10  \n",
      "0     44.907242  8.611559868      8900         3.0           3  \n",
      "1     45.666359  12.24188995      8800         3.0           3  \n",
      "2     45.503300     11.41784      4200         3.0           3  \n",
      "3     40.633171  17.63460922      6000         3.0           3  \n",
      "4     41.903221  12.49565029      5700         3.0           3  \n",
      "...         ...          ...       ...         ...         ...  \n",
      "1544   3.000000       length         5         3.0           3  \n",
      "1545   3.000000       concat  lonprice         3.0           3  \n",
      "1546   3.000000  Null values        NO         3.0           3  \n",
      "1547   3.000000         find         1         3.0           3  \n",
      "1548   3.000000       search         1         3.0           3  \n",
      "\n",
      "[1549 rows x 11 columns]\n"
     ]
    }
   ],
   "source": [
    "c=a1.fillna(value=3)\n",
    "print(c)"
   ]
  },
  {
   "cell_type": "markdown",
   "id": "6567dfd3",
   "metadata": {},
   "source": [
    "# c) Find covariance and correlation (spearman and pearsons)"
   ]
  },
  {
   "cell_type": "code",
   "execution_count": 54,
   "id": "d7340d6d",
   "metadata": {},
   "outputs": [
    {
     "name": "stdout",
     "output_type": "stream",
     "text": [
      "[[1.99992116e+05 1.73315627e+05]\n",
      " [1.73315627e+05 1.61246637e+09]]\n"
     ]
    }
   ],
   "source": [
    "e1=c['ID']\n",
    "e2=c['km']\n",
    "print(cov(e1,e2))"
   ]
  },
  {
   "cell_type": "code",
   "execution_count": 55,
   "id": "b900bd31",
   "metadata": {},
   "outputs": [
    {
     "name": "stdout",
     "output_type": "stream",
     "text": [
      "(0.009651303080527938, 0.7042781545927824)\n"
     ]
    }
   ],
   "source": [
    "print(pearsonr(e1,e2))"
   ]
  },
  {
   "cell_type": "code",
   "execution_count": 56,
   "id": "85b784d4",
   "metadata": {},
   "outputs": [
    {
     "name": "stdout",
     "output_type": "stream",
     "text": [
      "SpearmanrResult(correlation=0.04484417407698012, pvalue=0.07766295578035899)\n"
     ]
    }
   ],
   "source": [
    "print(spearmanr(e1,e2))"
   ]
  },
  {
   "cell_type": "markdown",
   "id": "2464649c",
   "metadata": {},
   "source": [
    "# Data Set 3"
   ]
  },
  {
   "cell_type": "code",
   "execution_count": 58,
   "id": "1d948bb2",
   "metadata": {},
   "outputs": [
    {
     "data": {
      "text/html": [
       "<div>\n",
       "<style scoped>\n",
       "    .dataframe tbody tr th:only-of-type {\n",
       "        vertical-align: middle;\n",
       "    }\n",
       "\n",
       "    .dataframe tbody tr th {\n",
       "        vertical-align: top;\n",
       "    }\n",
       "\n",
       "    .dataframe thead th {\n",
       "        text-align: right;\n",
       "    }\n",
       "</style>\n",
       "<table border=\"1\" class=\"dataframe\">\n",
       "  <thead>\n",
       "    <tr style=\"text-align: right;\">\n",
       "      <th></th>\n",
       "      <th>Age</th>\n",
       "      <th>Sex</th>\n",
       "      <th>BP</th>\n",
       "      <th>Cholesterol</th>\n",
       "      <th>Na_to_K</th>\n",
       "      <th>Drug</th>\n",
       "    </tr>\n",
       "  </thead>\n",
       "  <tbody>\n",
       "    <tr>\n",
       "      <th>0</th>\n",
       "      <td>23</td>\n",
       "      <td>F</td>\n",
       "      <td>HIGH</td>\n",
       "      <td>HIGH</td>\n",
       "      <td>25.355</td>\n",
       "      <td>drugY</td>\n",
       "    </tr>\n",
       "    <tr>\n",
       "      <th>1</th>\n",
       "      <td>47</td>\n",
       "      <td>M</td>\n",
       "      <td>LOW</td>\n",
       "      <td>HIGH</td>\n",
       "      <td>13.093</td>\n",
       "      <td>drugC</td>\n",
       "    </tr>\n",
       "    <tr>\n",
       "      <th>2</th>\n",
       "      <td>47</td>\n",
       "      <td>M</td>\n",
       "      <td>LOW</td>\n",
       "      <td>HIGH</td>\n",
       "      <td>10.114</td>\n",
       "      <td>drugC</td>\n",
       "    </tr>\n",
       "    <tr>\n",
       "      <th>3</th>\n",
       "      <td>28</td>\n",
       "      <td>F</td>\n",
       "      <td>NORMAL</td>\n",
       "      <td>HIGH</td>\n",
       "      <td>7.798</td>\n",
       "      <td>drugX</td>\n",
       "    </tr>\n",
       "    <tr>\n",
       "      <th>4</th>\n",
       "      <td>61</td>\n",
       "      <td>F</td>\n",
       "      <td>LOW</td>\n",
       "      <td>HIGH</td>\n",
       "      <td>18.043</td>\n",
       "      <td>drugY</td>\n",
       "    </tr>\n",
       "    <tr>\n",
       "      <th>...</th>\n",
       "      <td>...</td>\n",
       "      <td>...</td>\n",
       "      <td>...</td>\n",
       "      <td>...</td>\n",
       "      <td>...</td>\n",
       "      <td>...</td>\n",
       "    </tr>\n",
       "    <tr>\n",
       "      <th>195</th>\n",
       "      <td>56</td>\n",
       "      <td>F</td>\n",
       "      <td>LOW</td>\n",
       "      <td>HIGH</td>\n",
       "      <td>11.567</td>\n",
       "      <td>drugC</td>\n",
       "    </tr>\n",
       "    <tr>\n",
       "      <th>196</th>\n",
       "      <td>16</td>\n",
       "      <td>M</td>\n",
       "      <td>LOW</td>\n",
       "      <td>HIGH</td>\n",
       "      <td>12.006</td>\n",
       "      <td>drugC</td>\n",
       "    </tr>\n",
       "    <tr>\n",
       "      <th>197</th>\n",
       "      <td>52</td>\n",
       "      <td>M</td>\n",
       "      <td>NORMAL</td>\n",
       "      <td>HIGH</td>\n",
       "      <td>9.894</td>\n",
       "      <td>drugX</td>\n",
       "    </tr>\n",
       "    <tr>\n",
       "      <th>198</th>\n",
       "      <td>23</td>\n",
       "      <td>M</td>\n",
       "      <td>NORMAL</td>\n",
       "      <td>NORMAL</td>\n",
       "      <td>14.020</td>\n",
       "      <td>drugX</td>\n",
       "    </tr>\n",
       "    <tr>\n",
       "      <th>199</th>\n",
       "      <td>40</td>\n",
       "      <td>F</td>\n",
       "      <td>LOW</td>\n",
       "      <td>NORMAL</td>\n",
       "      <td>11.349</td>\n",
       "      <td>drugX</td>\n",
       "    </tr>\n",
       "  </tbody>\n",
       "</table>\n",
       "<p>200 rows × 6 columns</p>\n",
       "</div>"
      ],
      "text/plain": [
       "     Age Sex      BP Cholesterol  Na_to_K   Drug\n",
       "0     23   F    HIGH        HIGH   25.355  drugY\n",
       "1     47   M     LOW        HIGH   13.093  drugC\n",
       "2     47   M     LOW        HIGH   10.114  drugC\n",
       "3     28   F  NORMAL        HIGH    7.798  drugX\n",
       "4     61   F     LOW        HIGH   18.043  drugY\n",
       "..   ...  ..     ...         ...      ...    ...\n",
       "195   56   F     LOW        HIGH   11.567  drugC\n",
       "196   16   M     LOW        HIGH   12.006  drugC\n",
       "197   52   M  NORMAL        HIGH    9.894  drugX\n",
       "198   23   M  NORMAL      NORMAL   14.020  drugX\n",
       "199   40   F     LOW      NORMAL   11.349  drugX\n",
       "\n",
       "[200 rows x 6 columns]"
      ]
     },
     "execution_count": 58,
     "metadata": {},
     "output_type": "execute_result"
    }
   ],
   "source": [
    "a2=pd.read_csv(r\"C:\\Users\\user\\Downloads\\4_drug200.csv\")\n",
    "a2"
   ]
  },
  {
   "cell_type": "markdown",
   "id": "a24bf4c8",
   "metadata": {},
   "source": [
    "# a) Find mean, median, mode and describe"
   ]
  },
  {
   "cell_type": "code",
   "execution_count": 59,
   "id": "45dd8e2a",
   "metadata": {},
   "outputs": [
    {
     "name": "stdout",
     "output_type": "stream",
     "text": [
      "Age        44.315000\n",
      "Na_to_K    16.084485\n",
      "dtype: float64\n"
     ]
    }
   ],
   "source": [
    "print(a2.mean())"
   ]
  },
  {
   "cell_type": "code",
   "execution_count": 60,
   "id": "6731f3f4",
   "metadata": {},
   "outputs": [
    {
     "name": "stdout",
     "output_type": "stream",
     "text": [
      "Age        45.0000\n",
      "Na_to_K    13.9365\n",
      "dtype: float64\n"
     ]
    }
   ],
   "source": [
    "print(a2.median())"
   ]
  },
  {
   "cell_type": "code",
   "execution_count": 61,
   "id": "f0da36d4",
   "metadata": {},
   "outputs": [
    {
     "name": "stdout",
     "output_type": "stream",
     "text": [
      "    Age  Sex    BP Cholesterol  Na_to_K   Drug\n",
      "0  47.0    M  HIGH        HIGH   12.006  drugY\n",
      "1   NaN  NaN   NaN         NaN   18.295    NaN\n"
     ]
    }
   ],
   "source": [
    "print(a2.mode())"
   ]
  },
  {
   "cell_type": "code",
   "execution_count": 62,
   "id": "27410e9c",
   "metadata": {},
   "outputs": [
    {
     "name": "stdout",
     "output_type": "stream",
     "text": [
      "              Age     Na_to_K\n",
      "count  200.000000  200.000000\n",
      "mean    44.315000   16.084485\n",
      "std     16.544315    7.223956\n",
      "min     15.000000    6.269000\n",
      "25%     31.000000   10.445500\n",
      "50%     45.000000   13.936500\n",
      "75%     58.000000   19.380000\n",
      "max     74.000000   38.247000\n"
     ]
    }
   ],
   "source": [
    "print(a2.describe())"
   ]
  },
  {
   "cell_type": "markdown",
   "id": "d75941b9",
   "metadata": {},
   "source": [
    "# b) Find sum(), cumsum(), count, min and max values"
   ]
  },
  {
   "cell_type": "code",
   "execution_count": 63,
   "id": "d647c880",
   "metadata": {},
   "outputs": [
    {
     "name": "stdout",
     "output_type": "stream",
     "text": [
      "Age        8863.000\n",
      "Na_to_K    3216.897\n",
      "dtype: float64\n"
     ]
    }
   ],
   "source": [
    "b2=a2[['Age','Na_to_K']]\n",
    "print(b2.sum())"
   ]
  },
  {
   "cell_type": "code",
   "execution_count": 64,
   "id": "2f183d74",
   "metadata": {},
   "outputs": [
    {
     "name": "stdout",
     "output_type": "stream",
     "text": [
      "      Age   Na_to_K\n",
      "0      23    25.355\n",
      "1      70    38.448\n",
      "2     117    48.562\n",
      "3     145    56.360\n",
      "4     206    74.403\n",
      "..    ...       ...\n",
      "195  8732  3169.628\n",
      "196  8748  3181.634\n",
      "197  8800  3191.528\n",
      "198  8823  3205.548\n",
      "199  8863  3216.897\n",
      "\n",
      "[200 rows x 2 columns]\n"
     ]
    }
   ],
   "source": [
    "print(b2.cumsum())"
   ]
  },
  {
   "cell_type": "code",
   "execution_count": 65,
   "id": "9040300e",
   "metadata": {},
   "outputs": [
    {
     "name": "stdout",
     "output_type": "stream",
     "text": [
      "Age        200\n",
      "Na_to_K    200\n",
      "dtype: int64\n"
     ]
    }
   ],
   "source": [
    "print(b2.count())"
   ]
  },
  {
   "cell_type": "code",
   "execution_count": 66,
   "id": "bdf78710",
   "metadata": {},
   "outputs": [
    {
     "name": "stdout",
     "output_type": "stream",
     "text": [
      "Age        15.000\n",
      "Na_to_K     6.269\n",
      "dtype: float64\n"
     ]
    }
   ],
   "source": [
    "print(b2.min())"
   ]
  },
  {
   "cell_type": "code",
   "execution_count": 67,
   "id": "592fe706",
   "metadata": {},
   "outputs": [
    {
     "name": "stdout",
     "output_type": "stream",
     "text": [
      "Age        74.000\n",
      "Na_to_K    38.247\n",
      "dtype: float64\n"
     ]
    }
   ],
   "source": [
    "print(b2.max())"
   ]
  },
  {
   "cell_type": "markdown",
   "id": "b47c4009",
   "metadata": {},
   "source": [
    "# c) Find covariance and correlation (spearman and pearsons)"
   ]
  },
  {
   "cell_type": "code",
   "execution_count": 68,
   "id": "16e89b6f",
   "metadata": {},
   "outputs": [
    {
     "name": "stdout",
     "output_type": "stream",
     "text": [
      "[[273.71434673  -7.54375153]\n",
      " [ -7.54375153  52.18553348]]\n"
     ]
    }
   ],
   "source": [
    "f1=b2['Age']\n",
    "f2=b2['Na_to_K']\n",
    "print(cov(f1,f2))"
   ]
  },
  {
   "cell_type": "code",
   "execution_count": 69,
   "id": "e77b9488",
   "metadata": {},
   "outputs": [
    {
     "name": "stdout",
     "output_type": "stream",
     "text": [
      "(-0.06311949726772592, 0.3745756399034559)\n"
     ]
    }
   ],
   "source": [
    "print(pearsonr(f1,f2))"
   ]
  },
  {
   "cell_type": "code",
   "execution_count": 70,
   "id": "396c1adc",
   "metadata": {},
   "outputs": [
    {
     "name": "stdout",
     "output_type": "stream",
     "text": [
      "SpearmanrResult(correlation=-0.047273882688479915, pvalue=0.5062200581387418)\n"
     ]
    }
   ],
   "source": [
    "print(spearmanr(f1,f2))"
   ]
  },
  {
   "cell_type": "markdown",
   "id": "71fb560a",
   "metadata": {},
   "source": [
    "# Data Set 4"
   ]
  },
  {
   "cell_type": "code",
   "execution_count": 71,
   "id": "b08f81b9",
   "metadata": {},
   "outputs": [
    {
     "data": {
      "text/html": [
       "<div>\n",
       "<style scoped>\n",
       "    .dataframe tbody tr th:only-of-type {\n",
       "        vertical-align: middle;\n",
       "    }\n",
       "\n",
       "    .dataframe tbody tr th {\n",
       "        vertical-align: top;\n",
       "    }\n",
       "\n",
       "    .dataframe thead th {\n",
       "        text-align: right;\n",
       "    }\n",
       "</style>\n",
       "<table border=\"1\" class=\"dataframe\">\n",
       "  <thead>\n",
       "    <tr style=\"text-align: right;\">\n",
       "      <th></th>\n",
       "      <th>Impressions</th>\n",
       "      <th>From Home</th>\n",
       "      <th>From Hashtags</th>\n",
       "      <th>From Explore</th>\n",
       "      <th>From Other</th>\n",
       "      <th>Saves</th>\n",
       "      <th>Comments</th>\n",
       "      <th>Shares</th>\n",
       "      <th>Likes</th>\n",
       "      <th>Profile Visits</th>\n",
       "      <th>Follows</th>\n",
       "      <th>Caption</th>\n",
       "      <th>Hashtags</th>\n",
       "    </tr>\n",
       "  </thead>\n",
       "  <tbody>\n",
       "    <tr>\n",
       "      <th>0</th>\n",
       "      <td>3920</td>\n",
       "      <td>2586</td>\n",
       "      <td>1028</td>\n",
       "      <td>619</td>\n",
       "      <td>56</td>\n",
       "      <td>98</td>\n",
       "      <td>9</td>\n",
       "      <td>5</td>\n",
       "      <td>162</td>\n",
       "      <td>35</td>\n",
       "      <td>2</td>\n",
       "      <td>Here are some of the most important data visua...</td>\n",
       "      <td>#finance�#money�#business�#investing�#investme...</td>\n",
       "    </tr>\n",
       "    <tr>\n",
       "      <th>1</th>\n",
       "      <td>5394</td>\n",
       "      <td>2727</td>\n",
       "      <td>1838</td>\n",
       "      <td>1174</td>\n",
       "      <td>78</td>\n",
       "      <td>194</td>\n",
       "      <td>7</td>\n",
       "      <td>14</td>\n",
       "      <td>224</td>\n",
       "      <td>48</td>\n",
       "      <td>10</td>\n",
       "      <td>Here are some of the best data science project...</td>\n",
       "      <td>#healthcare�#health�#covid�#data�#datascience�...</td>\n",
       "    </tr>\n",
       "    <tr>\n",
       "      <th>2</th>\n",
       "      <td>4021</td>\n",
       "      <td>2085</td>\n",
       "      <td>1188</td>\n",
       "      <td>0</td>\n",
       "      <td>533</td>\n",
       "      <td>41</td>\n",
       "      <td>11</td>\n",
       "      <td>1</td>\n",
       "      <td>131</td>\n",
       "      <td>62</td>\n",
       "      <td>12</td>\n",
       "      <td>Learn how to train a machine learning model an...</td>\n",
       "      <td>#data�#datascience�#dataanalysis�#dataanalytic...</td>\n",
       "    </tr>\n",
       "    <tr>\n",
       "      <th>3</th>\n",
       "      <td>4528</td>\n",
       "      <td>2700</td>\n",
       "      <td>621</td>\n",
       "      <td>932</td>\n",
       "      <td>73</td>\n",
       "      <td>172</td>\n",
       "      <td>10</td>\n",
       "      <td>7</td>\n",
       "      <td>213</td>\n",
       "      <td>23</td>\n",
       "      <td>8</td>\n",
       "      <td>Here�s how you can write a Python program to d...</td>\n",
       "      <td>#python�#pythonprogramming�#pythonprojects�#py...</td>\n",
       "    </tr>\n",
       "    <tr>\n",
       "      <th>4</th>\n",
       "      <td>2518</td>\n",
       "      <td>1704</td>\n",
       "      <td>255</td>\n",
       "      <td>279</td>\n",
       "      <td>37</td>\n",
       "      <td>96</td>\n",
       "      <td>5</td>\n",
       "      <td>4</td>\n",
       "      <td>123</td>\n",
       "      <td>8</td>\n",
       "      <td>0</td>\n",
       "      <td>Plotting annotations while visualizing your da...</td>\n",
       "      <td>#datavisualization�#datascience�#data�#dataana...</td>\n",
       "    </tr>\n",
       "    <tr>\n",
       "      <th>...</th>\n",
       "      <td>...</td>\n",
       "      <td>...</td>\n",
       "      <td>...</td>\n",
       "      <td>...</td>\n",
       "      <td>...</td>\n",
       "      <td>...</td>\n",
       "      <td>...</td>\n",
       "      <td>...</td>\n",
       "      <td>...</td>\n",
       "      <td>...</td>\n",
       "      <td>...</td>\n",
       "      <td>...</td>\n",
       "      <td>...</td>\n",
       "    </tr>\n",
       "    <tr>\n",
       "      <th>114</th>\n",
       "      <td>13700</td>\n",
       "      <td>5185</td>\n",
       "      <td>3041</td>\n",
       "      <td>5352</td>\n",
       "      <td>77</td>\n",
       "      <td>573</td>\n",
       "      <td>2</td>\n",
       "      <td>38</td>\n",
       "      <td>373</td>\n",
       "      <td>73</td>\n",
       "      <td>80</td>\n",
       "      <td>Here are some of the best data science certifi...</td>\n",
       "      <td>#datascience�#datasciencejobs�#datasciencetrai...</td>\n",
       "    </tr>\n",
       "    <tr>\n",
       "      <th>115</th>\n",
       "      <td>5731</td>\n",
       "      <td>1923</td>\n",
       "      <td>1368</td>\n",
       "      <td>2266</td>\n",
       "      <td>65</td>\n",
       "      <td>135</td>\n",
       "      <td>4</td>\n",
       "      <td>1</td>\n",
       "      <td>148</td>\n",
       "      <td>20</td>\n",
       "      <td>18</td>\n",
       "      <td>Clustering is a machine learning technique use...</td>\n",
       "      <td>#machinelearning�#machinelearningalgorithms�#d...</td>\n",
       "    </tr>\n",
       "    <tr>\n",
       "      <th>116</th>\n",
       "      <td>4139</td>\n",
       "      <td>1133</td>\n",
       "      <td>1538</td>\n",
       "      <td>1367</td>\n",
       "      <td>33</td>\n",
       "      <td>36</td>\n",
       "      <td>0</td>\n",
       "      <td>1</td>\n",
       "      <td>92</td>\n",
       "      <td>34</td>\n",
       "      <td>10</td>\n",
       "      <td>Clustering music genres is a task of grouping ...</td>\n",
       "      <td>#machinelearning�#machinelearningalgorithms�#d...</td>\n",
       "    </tr>\n",
       "    <tr>\n",
       "      <th>117</th>\n",
       "      <td>32695</td>\n",
       "      <td>11815</td>\n",
       "      <td>3147</td>\n",
       "      <td>17414</td>\n",
       "      <td>170</td>\n",
       "      <td>1095</td>\n",
       "      <td>2</td>\n",
       "      <td>75</td>\n",
       "      <td>549</td>\n",
       "      <td>148</td>\n",
       "      <td>214</td>\n",
       "      <td>Here are some of the best data science certifi...</td>\n",
       "      <td>#datascience�#datasciencejobs�#datasciencetrai...</td>\n",
       "    </tr>\n",
       "    <tr>\n",
       "      <th>118</th>\n",
       "      <td>36919</td>\n",
       "      <td>13473</td>\n",
       "      <td>4176</td>\n",
       "      <td>16444</td>\n",
       "      <td>2547</td>\n",
       "      <td>653</td>\n",
       "      <td>5</td>\n",
       "      <td>26</td>\n",
       "      <td>443</td>\n",
       "      <td>611</td>\n",
       "      <td>228</td>\n",
       "      <td>175 Python Projects with Source Code solved an...</td>\n",
       "      <td>#python�#pythonprogramming�#pythonprojects�#py...</td>\n",
       "    </tr>\n",
       "  </tbody>\n",
       "</table>\n",
       "<p>119 rows × 13 columns</p>\n",
       "</div>"
      ],
      "text/plain": [
       "     Impressions  From Home  From Hashtags  From Explore  From Other  Saves  \\\n",
       "0           3920       2586           1028           619          56     98   \n",
       "1           5394       2727           1838          1174          78    194   \n",
       "2           4021       2085           1188             0         533     41   \n",
       "3           4528       2700            621           932          73    172   \n",
       "4           2518       1704            255           279          37     96   \n",
       "..           ...        ...            ...           ...         ...    ...   \n",
       "114        13700       5185           3041          5352          77    573   \n",
       "115         5731       1923           1368          2266          65    135   \n",
       "116         4139       1133           1538          1367          33     36   \n",
       "117        32695      11815           3147         17414         170   1095   \n",
       "118        36919      13473           4176         16444        2547    653   \n",
       "\n",
       "     Comments  Shares  Likes  Profile Visits  Follows  \\\n",
       "0           9       5    162              35        2   \n",
       "1           7      14    224              48       10   \n",
       "2          11       1    131              62       12   \n",
       "3          10       7    213              23        8   \n",
       "4           5       4    123               8        0   \n",
       "..        ...     ...    ...             ...      ...   \n",
       "114         2      38    373              73       80   \n",
       "115         4       1    148              20       18   \n",
       "116         0       1     92              34       10   \n",
       "117         2      75    549             148      214   \n",
       "118         5      26    443             611      228   \n",
       "\n",
       "                                               Caption  \\\n",
       "0    Here are some of the most important data visua...   \n",
       "1    Here are some of the best data science project...   \n",
       "2    Learn how to train a machine learning model an...   \n",
       "3    Here�s how you can write a Python program to d...   \n",
       "4    Plotting annotations while visualizing your da...   \n",
       "..                                                 ...   \n",
       "114  Here are some of the best data science certifi...   \n",
       "115  Clustering is a machine learning technique use...   \n",
       "116  Clustering music genres is a task of grouping ...   \n",
       "117  Here are some of the best data science certifi...   \n",
       "118  175 Python Projects with Source Code solved an...   \n",
       "\n",
       "                                              Hashtags  \n",
       "0    #finance�#money�#business�#investing�#investme...  \n",
       "1    #healthcare�#health�#covid�#data�#datascience�...  \n",
       "2    #data�#datascience�#dataanalysis�#dataanalytic...  \n",
       "3    #python�#pythonprogramming�#pythonprojects�#py...  \n",
       "4    #datavisualization�#datascience�#data�#dataana...  \n",
       "..                                                 ...  \n",
       "114  #datascience�#datasciencejobs�#datasciencetrai...  \n",
       "115  #machinelearning�#machinelearningalgorithms�#d...  \n",
       "116  #machinelearning�#machinelearningalgorithms�#d...  \n",
       "117  #datascience�#datasciencejobs�#datasciencetrai...  \n",
       "118  #python�#pythonprogramming�#pythonprojects�#py...  \n",
       "\n",
       "[119 rows x 13 columns]"
      ]
     },
     "execution_count": 71,
     "metadata": {},
     "output_type": "execute_result"
    }
   ],
   "source": [
    "a3=pd.read_csv(r\"C:\\Users\\user\\Downloads\\5_Instagram data.csv\")\n",
    "a3"
   ]
  },
  {
   "cell_type": "markdown",
   "id": "a6eb74f6",
   "metadata": {},
   "source": [
    "# a) Find mean, median, mode and describe"
   ]
  },
  {
   "cell_type": "code",
   "execution_count": 72,
   "id": "cbecc53e",
   "metadata": {},
   "outputs": [
    {
     "name": "stdout",
     "output_type": "stream",
     "text": [
      "Impressions       5703.991597\n",
      "From Home         2475.789916\n",
      "From Hashtags     1887.512605\n",
      "From Explore      1078.100840\n",
      "From Other         171.092437\n",
      "Saves              153.310924\n",
      "Comments             6.663866\n",
      "Shares               9.361345\n",
      "Likes              173.781513\n",
      "Profile Visits      50.621849\n",
      "Follows             20.756303\n",
      "dtype: float64\n"
     ]
    }
   ],
   "source": [
    "print(a3.mean())"
   ]
  },
  {
   "cell_type": "code",
   "execution_count": 73,
   "id": "cd17b2f0",
   "metadata": {},
   "outputs": [
    {
     "name": "stdout",
     "output_type": "stream",
     "text": [
      "Impressions       4289.0\n",
      "From Home         2207.0\n",
      "From Hashtags     1278.0\n",
      "From Explore       326.0\n",
      "From Other          74.0\n",
      "Saves              109.0\n",
      "Comments             6.0\n",
      "Shares               6.0\n",
      "Likes              151.0\n",
      "Profile Visits      23.0\n",
      "Follows              8.0\n",
      "dtype: float64\n"
     ]
    }
   ],
   "source": [
    "print(a3.median())"
   ]
  },
  {
   "cell_type": "code",
   "execution_count": 74,
   "id": "5b9cec8e",
   "metadata": {},
   "outputs": [
    {
     "name": "stdout",
     "output_type": "stream",
     "text": [
      "    Impressions  From Home  From Hashtags  From Explore  From Other  Saves  \\\n",
      "0        5394.0     1975.0            116          45.0        34.0   40.0   \n",
      "1           NaN        NaN            201          84.0         NaN  135.0   \n",
      "2           NaN        NaN            278           NaN         NaN  144.0   \n",
      "3           NaN        NaN            362           NaN         NaN    NaN   \n",
      "4           NaN        NaN            411           NaN         NaN    NaN   \n",
      "5           NaN        NaN            583           NaN         NaN    NaN   \n",
      "6           NaN        NaN            655           NaN         NaN    NaN   \n",
      "7           NaN        NaN            707           NaN         NaN    NaN   \n",
      "8           NaN        NaN            771           NaN         NaN    NaN   \n",
      "9           NaN        NaN            794           NaN         NaN    NaN   \n",
      "10          NaN        NaN           1248           NaN         NaN    NaN   \n",
      "11          NaN        NaN           1260           NaN         NaN    NaN   \n",
      "12          NaN        NaN           1278           NaN         NaN    NaN   \n",
      "13          NaN        NaN           1693           NaN         NaN    NaN   \n",
      "14          NaN        NaN           1938           NaN         NaN    NaN   \n",
      "15          NaN        NaN           2351           NaN         NaN    NaN   \n",
      "16          NaN        NaN           2975           NaN         NaN    NaN   \n",
      "17          NaN        NaN           3450           NaN         NaN    NaN   \n",
      "18          NaN        NaN           3551           NaN         NaN    NaN   \n",
      "\n",
      "    Comments  Shares  Likes  Profile Visits  Follows  \\\n",
      "0        6.0     3.0  114.0            19.0      2.0   \n",
      "1        NaN     NaN  151.0            21.0      NaN   \n",
      "2        NaN     NaN    NaN             NaN      NaN   \n",
      "3        NaN     NaN    NaN             NaN      NaN   \n",
      "4        NaN     NaN    NaN             NaN      NaN   \n",
      "5        NaN     NaN    NaN             NaN      NaN   \n",
      "6        NaN     NaN    NaN             NaN      NaN   \n",
      "7        NaN     NaN    NaN             NaN      NaN   \n",
      "8        NaN     NaN    NaN             NaN      NaN   \n",
      "9        NaN     NaN    NaN             NaN      NaN   \n",
      "10       NaN     NaN    NaN             NaN      NaN   \n",
      "11       NaN     NaN    NaN             NaN      NaN   \n",
      "12       NaN     NaN    NaN             NaN      NaN   \n",
      "13       NaN     NaN    NaN             NaN      NaN   \n",
      "14       NaN     NaN    NaN             NaN      NaN   \n",
      "15       NaN     NaN    NaN             NaN      NaN   \n",
      "16       NaN     NaN    NaN             NaN      NaN   \n",
      "17       NaN     NaN    NaN             NaN      NaN   \n",
      "18       NaN     NaN    NaN             NaN      NaN   \n",
      "\n",
      "                                              Caption  \\\n",
      "0   Here are some of the best data science project...   \n",
      "1   Here are some of the best websites that you ca...   \n",
      "2                                                 NaN   \n",
      "3                                                 NaN   \n",
      "4                                                 NaN   \n",
      "5                                                 NaN   \n",
      "6                                                 NaN   \n",
      "7                                                 NaN   \n",
      "8                                                 NaN   \n",
      "9                                                 NaN   \n",
      "10                                                NaN   \n",
      "11                                                NaN   \n",
      "12                                                NaN   \n",
      "13                                                NaN   \n",
      "14                                                NaN   \n",
      "15                                                NaN   \n",
      "16                                                NaN   \n",
      "17                                                NaN   \n",
      "18                                                NaN   \n",
      "\n",
      "                                             Hashtags  \n",
      "0   #data�#datascience�#dataanalysis�#dataanalytic...  \n",
      "1                                                 NaN  \n",
      "2                                                 NaN  \n",
      "3                                                 NaN  \n",
      "4                                                 NaN  \n",
      "5                                                 NaN  \n",
      "6                                                 NaN  \n",
      "7                                                 NaN  \n",
      "8                                                 NaN  \n",
      "9                                                 NaN  \n",
      "10                                                NaN  \n",
      "11                                                NaN  \n",
      "12                                                NaN  \n",
      "13                                                NaN  \n",
      "14                                                NaN  \n",
      "15                                                NaN  \n",
      "16                                                NaN  \n",
      "17                                                NaN  \n",
      "18                                                NaN  \n"
     ]
    }
   ],
   "source": [
    "print(a3.mode())"
   ]
  },
  {
   "cell_type": "code",
   "execution_count": 75,
   "id": "a056e483",
   "metadata": {},
   "outputs": [
    {
     "name": "stdout",
     "output_type": "stream",
     "text": [
      "        Impressions     From Home  From Hashtags  From Explore   From Other  \\\n",
      "count    119.000000    119.000000     119.000000    119.000000   119.000000   \n",
      "mean    5703.991597   2475.789916    1887.512605   1078.100840   171.092437   \n",
      "std     4843.780105   1489.386348    1884.361443   2613.026132   289.431031   \n",
      "min     1941.000000   1133.000000     116.000000      0.000000     9.000000   \n",
      "25%     3467.000000   1945.000000     726.000000    157.500000    38.000000   \n",
      "50%     4289.000000   2207.000000    1278.000000    326.000000    74.000000   \n",
      "75%     6138.000000   2602.500000    2363.500000    689.500000   196.000000   \n",
      "max    36919.000000  13473.000000   11817.000000  17414.000000  2547.000000   \n",
      "\n",
      "             Saves    Comments      Shares       Likes  Profile Visits  \\\n",
      "count   119.000000  119.000000  119.000000  119.000000      119.000000   \n",
      "mean    153.310924    6.663866    9.361345  173.781513       50.621849   \n",
      "std     156.317731    3.544576   10.089205   82.378947       87.088402   \n",
      "min      22.000000    0.000000    0.000000   72.000000        4.000000   \n",
      "25%      65.000000    4.000000    3.000000  121.500000       15.000000   \n",
      "50%     109.000000    6.000000    6.000000  151.000000       23.000000   \n",
      "75%     169.000000    8.000000   13.500000  204.000000       42.000000   \n",
      "max    1095.000000   19.000000   75.000000  549.000000      611.000000   \n",
      "\n",
      "          Follows  \n",
      "count  119.000000  \n",
      "mean    20.756303  \n",
      "std     40.921580  \n",
      "min      0.000000  \n",
      "25%      4.000000  \n",
      "50%      8.000000  \n",
      "75%     18.000000  \n",
      "max    260.000000  \n"
     ]
    }
   ],
   "source": [
    "print(a3.describe())"
   ]
  },
  {
   "cell_type": "markdown",
   "id": "a30d5aea",
   "metadata": {},
   "source": [
    "# b) Find sum(), cumsum(), count, min and max values"
   ]
  },
  {
   "cell_type": "code",
   "execution_count": 76,
   "id": "aa3280b6",
   "metadata": {},
   "outputs": [
    {
     "name": "stdout",
     "output_type": "stream",
     "text": [
      "Impressions    678775\n",
      "From Home      294619\n",
      "dtype: int64\n"
     ]
    }
   ],
   "source": [
    "b3=a3[['Impressions','From Home']]\n",
    "print(b3.sum())"
   ]
  },
  {
   "cell_type": "code",
   "execution_count": 77,
   "id": "12888d47",
   "metadata": {},
   "outputs": [
    {
     "name": "stdout",
     "output_type": "stream",
     "text": [
      "     Impressions  From Home\n",
      "0           3920       2586\n",
      "1           9314       5313\n",
      "2          13335       7398\n",
      "3          17863      10098\n",
      "4          20381      11802\n",
      "..           ...        ...\n",
      "114       599291     266275\n",
      "115       605022     268198\n",
      "116       609161     269331\n",
      "117       641856     281146\n",
      "118       678775     294619\n",
      "\n",
      "[119 rows x 2 columns]\n"
     ]
    }
   ],
   "source": [
    "print(b3.cumsum())"
   ]
  },
  {
   "cell_type": "code",
   "execution_count": 78,
   "id": "58da31bb",
   "metadata": {},
   "outputs": [
    {
     "name": "stdout",
     "output_type": "stream",
     "text": [
      "Impressions    119\n",
      "From Home      119\n",
      "dtype: int64\n"
     ]
    }
   ],
   "source": [
    "print(b3.count())"
   ]
  },
  {
   "cell_type": "code",
   "execution_count": 79,
   "id": "9ad1440f",
   "metadata": {},
   "outputs": [
    {
     "name": "stdout",
     "output_type": "stream",
     "text": [
      "Impressions    1941\n",
      "From Home      1133\n",
      "dtype: int64\n"
     ]
    }
   ],
   "source": [
    "print(b3.min())"
   ]
  },
  {
   "cell_type": "code",
   "execution_count": 80,
   "id": "41ed8eb3",
   "metadata": {},
   "outputs": [
    {
     "name": "stdout",
     "output_type": "stream",
     "text": [
      "Impressions    36919\n",
      "From Home      13473\n",
      "dtype: int64\n"
     ]
    }
   ],
   "source": [
    "print(b3.max())"
   ]
  },
  {
   "cell_type": "markdown",
   "id": "a944a837",
   "metadata": {},
   "source": [
    "# c) Find covariance and correlation (spearman and pearsons)"
   ]
  },
  {
   "cell_type": "code",
   "execution_count": 82,
   "id": "ec9d75da",
   "metadata": {},
   "outputs": [
    {
     "name": "stdout",
     "output_type": "stream",
     "text": [
      "[[ 2.44352330e+04 -1.49115511e+01]\n",
      " [-1.49115511e+01  1.25640222e+01]]\n"
     ]
    }
   ],
   "source": [
    "g1=a3['Saves']\n",
    "g2=a3['Comments']\n",
    "print(cov(g1,g2))"
   ]
  },
  {
   "cell_type": "code",
   "execution_count": 83,
   "id": "accd703a",
   "metadata": {},
   "outputs": [
    {
     "name": "stdout",
     "output_type": "stream",
     "text": [
      "(-0.02691226370756101, 0.7714093067398262)\n"
     ]
    }
   ],
   "source": [
    "print(pearsonr(g1,g2))"
   ]
  },
  {
   "cell_type": "code",
   "execution_count": 84,
   "id": "33560340",
   "metadata": {},
   "outputs": [
    {
     "name": "stdout",
     "output_type": "stream",
     "text": [
      "SpearmanrResult(correlation=0.18289066665208123, pvalue=0.04649539344941905)\n"
     ]
    }
   ],
   "source": [
    "print(spearmanr(g1,g2))"
   ]
  },
  {
   "cell_type": "markdown",
   "id": "c83db911",
   "metadata": {},
   "source": [
    "# Data Set 5"
   ]
  },
  {
   "cell_type": "code",
   "execution_count": 85,
   "id": "57ee1880",
   "metadata": {},
   "outputs": [
    {
     "data": {
      "text/html": [
       "<div>\n",
       "<style scoped>\n",
       "    .dataframe tbody tr th:only-of-type {\n",
       "        vertical-align: middle;\n",
       "    }\n",
       "\n",
       "    .dataframe tbody tr th {\n",
       "        vertical-align: top;\n",
       "    }\n",
       "\n",
       "    .dataframe thead th {\n",
       "        text-align: right;\n",
       "    }\n",
       "</style>\n",
       "<table border=\"1\" class=\"dataframe\">\n",
       "  <thead>\n",
       "    <tr style=\"text-align: right;\">\n",
       "      <th></th>\n",
       "      <th>MonthYear</th>\n",
       "      <th>Time index</th>\n",
       "      <th>Country</th>\n",
       "      <th>StoreID</th>\n",
       "      <th>City</th>\n",
       "      <th>Dept_ID</th>\n",
       "      <th>Dept. Name</th>\n",
       "      <th>HoursOwn</th>\n",
       "      <th>HoursLease</th>\n",
       "      <th>Sales units</th>\n",
       "      <th>Turnover</th>\n",
       "      <th>Customer</th>\n",
       "      <th>Area (m2)</th>\n",
       "      <th>Opening hours</th>\n",
       "    </tr>\n",
       "  </thead>\n",
       "  <tbody>\n",
       "    <tr>\n",
       "      <th>0</th>\n",
       "      <td>10.2016</td>\n",
       "      <td>1.0</td>\n",
       "      <td>United Kingdom</td>\n",
       "      <td>88253.0</td>\n",
       "      <td>London (I)</td>\n",
       "      <td>1.0</td>\n",
       "      <td>Dry</td>\n",
       "      <td>3184.764</td>\n",
       "      <td>0.0</td>\n",
       "      <td>398560.0</td>\n",
       "      <td>1226244.0</td>\n",
       "      <td>NaN</td>\n",
       "      <td>953.04</td>\n",
       "      <td>Type A</td>\n",
       "    </tr>\n",
       "    <tr>\n",
       "      <th>1</th>\n",
       "      <td>10.2016</td>\n",
       "      <td>1.0</td>\n",
       "      <td>United Kingdom</td>\n",
       "      <td>88253.0</td>\n",
       "      <td>London (I)</td>\n",
       "      <td>2.0</td>\n",
       "      <td>Frozen</td>\n",
       "      <td>1582.941</td>\n",
       "      <td>0.0</td>\n",
       "      <td>82725.0</td>\n",
       "      <td>387810.0</td>\n",
       "      <td>NaN</td>\n",
       "      <td>720.48</td>\n",
       "      <td>Type A</td>\n",
       "    </tr>\n",
       "    <tr>\n",
       "      <th>2</th>\n",
       "      <td>10.2016</td>\n",
       "      <td>1.0</td>\n",
       "      <td>United Kingdom</td>\n",
       "      <td>88253.0</td>\n",
       "      <td>London (I)</td>\n",
       "      <td>3.0</td>\n",
       "      <td>other</td>\n",
       "      <td>47.205</td>\n",
       "      <td>0.0</td>\n",
       "      <td>438400.0</td>\n",
       "      <td>654657.0</td>\n",
       "      <td>NaN</td>\n",
       "      <td>966.72</td>\n",
       "      <td>Type A</td>\n",
       "    </tr>\n",
       "    <tr>\n",
       "      <th>3</th>\n",
       "      <td>10.2016</td>\n",
       "      <td>1.0</td>\n",
       "      <td>United Kingdom</td>\n",
       "      <td>88253.0</td>\n",
       "      <td>London (I)</td>\n",
       "      <td>4.0</td>\n",
       "      <td>Fish</td>\n",
       "      <td>1623.852</td>\n",
       "      <td>0.0</td>\n",
       "      <td>309425.0</td>\n",
       "      <td>499434.0</td>\n",
       "      <td>NaN</td>\n",
       "      <td>1053.36</td>\n",
       "      <td>Type A</td>\n",
       "    </tr>\n",
       "    <tr>\n",
       "      <th>4</th>\n",
       "      <td>10.2016</td>\n",
       "      <td>1.0</td>\n",
       "      <td>United Kingdom</td>\n",
       "      <td>88253.0</td>\n",
       "      <td>London (I)</td>\n",
       "      <td>5.0</td>\n",
       "      <td>Fruits &amp; Vegetables</td>\n",
       "      <td>1759.173</td>\n",
       "      <td>0.0</td>\n",
       "      <td>165515.0</td>\n",
       "      <td>329397.0</td>\n",
       "      <td>NaN</td>\n",
       "      <td>1053.36</td>\n",
       "      <td>Type A</td>\n",
       "    </tr>\n",
       "    <tr>\n",
       "      <th>...</th>\n",
       "      <td>...</td>\n",
       "      <td>...</td>\n",
       "      <td>...</td>\n",
       "      <td>...</td>\n",
       "      <td>...</td>\n",
       "      <td>...</td>\n",
       "      <td>...</td>\n",
       "      <td>...</td>\n",
       "      <td>...</td>\n",
       "      <td>...</td>\n",
       "      <td>...</td>\n",
       "      <td>...</td>\n",
       "      <td>...</td>\n",
       "      <td>...</td>\n",
       "    </tr>\n",
       "    <tr>\n",
       "      <th>7653</th>\n",
       "      <td>06.2017</td>\n",
       "      <td>9.0</td>\n",
       "      <td>Sweden</td>\n",
       "      <td>29650.0</td>\n",
       "      <td>Gothenburg</td>\n",
       "      <td>12.0</td>\n",
       "      <td>Checkout</td>\n",
       "      <td>6322.323</td>\n",
       "      <td>0.0</td>\n",
       "      <td>3886530.0</td>\n",
       "      <td>14538825.0</td>\n",
       "      <td>NaN</td>\n",
       "      <td>#NV</td>\n",
       "      <td>Type A</td>\n",
       "    </tr>\n",
       "    <tr>\n",
       "      <th>7654</th>\n",
       "      <td>06.2017</td>\n",
       "      <td>9.0</td>\n",
       "      <td>Sweden</td>\n",
       "      <td>29650.0</td>\n",
       "      <td>Gothenburg</td>\n",
       "      <td>16.0</td>\n",
       "      <td>Customer Services</td>\n",
       "      <td>4270.479</td>\n",
       "      <td>0.0</td>\n",
       "      <td>245.0</td>\n",
       "      <td>0.0</td>\n",
       "      <td>NaN</td>\n",
       "      <td>#NV</td>\n",
       "      <td>Type A</td>\n",
       "    </tr>\n",
       "    <tr>\n",
       "      <th>7655</th>\n",
       "      <td>06.2017</td>\n",
       "      <td>9.0</td>\n",
       "      <td>Sweden</td>\n",
       "      <td>29650.0</td>\n",
       "      <td>Gothenburg</td>\n",
       "      <td>11.0</td>\n",
       "      <td>Delivery</td>\n",
       "      <td>0</td>\n",
       "      <td>0.0</td>\n",
       "      <td>0.0</td>\n",
       "      <td>0.0</td>\n",
       "      <td>NaN</td>\n",
       "      <td>#NV</td>\n",
       "      <td>Type A</td>\n",
       "    </tr>\n",
       "    <tr>\n",
       "      <th>7656</th>\n",
       "      <td>06.2017</td>\n",
       "      <td>9.0</td>\n",
       "      <td>Sweden</td>\n",
       "      <td>29650.0</td>\n",
       "      <td>Gothenburg</td>\n",
       "      <td>17.0</td>\n",
       "      <td>others</td>\n",
       "      <td>2224.929</td>\n",
       "      <td>0.0</td>\n",
       "      <td>245.0</td>\n",
       "      <td>0.0</td>\n",
       "      <td>NaN</td>\n",
       "      <td>#NV</td>\n",
       "      <td>Type A</td>\n",
       "    </tr>\n",
       "    <tr>\n",
       "      <th>7657</th>\n",
       "      <td>06.2017</td>\n",
       "      <td>9.0</td>\n",
       "      <td>Sweden</td>\n",
       "      <td>29650.0</td>\n",
       "      <td>Gothenburg</td>\n",
       "      <td>18.0</td>\n",
       "      <td>all</td>\n",
       "      <td>39652.2</td>\n",
       "      <td>0.0</td>\n",
       "      <td>3886530.0</td>\n",
       "      <td>15056214.0</td>\n",
       "      <td>NaN</td>\n",
       "      <td>#NV</td>\n",
       "      <td>Type A</td>\n",
       "    </tr>\n",
       "  </tbody>\n",
       "</table>\n",
       "<p>7658 rows × 14 columns</p>\n",
       "</div>"
      ],
      "text/plain": [
       "     MonthYear  Time index         Country  StoreID        City  Dept_ID  \\\n",
       "0      10.2016         1.0  United Kingdom  88253.0  London (I)      1.0   \n",
       "1      10.2016         1.0  United Kingdom  88253.0  London (I)      2.0   \n",
       "2      10.2016         1.0  United Kingdom  88253.0  London (I)      3.0   \n",
       "3      10.2016         1.0  United Kingdom  88253.0  London (I)      4.0   \n",
       "4      10.2016         1.0  United Kingdom  88253.0  London (I)      5.0   \n",
       "...        ...         ...             ...      ...         ...      ...   \n",
       "7653   06.2017         9.0          Sweden  29650.0  Gothenburg     12.0   \n",
       "7654   06.2017         9.0          Sweden  29650.0  Gothenburg     16.0   \n",
       "7655   06.2017         9.0          Sweden  29650.0  Gothenburg     11.0   \n",
       "7656   06.2017         9.0          Sweden  29650.0  Gothenburg     17.0   \n",
       "7657   06.2017         9.0          Sweden  29650.0  Gothenburg     18.0   \n",
       "\n",
       "               Dept. Name  HoursOwn  HoursLease  Sales units    Turnover  \\\n",
       "0                     Dry  3184.764         0.0     398560.0   1226244.0   \n",
       "1                  Frozen  1582.941         0.0      82725.0    387810.0   \n",
       "2                   other    47.205         0.0     438400.0    654657.0   \n",
       "3                    Fish  1623.852         0.0     309425.0    499434.0   \n",
       "4     Fruits & Vegetables  1759.173         0.0     165515.0    329397.0   \n",
       "...                   ...       ...         ...          ...         ...   \n",
       "7653             Checkout  6322.323         0.0    3886530.0  14538825.0   \n",
       "7654    Customer Services  4270.479         0.0        245.0         0.0   \n",
       "7655             Delivery         0         0.0          0.0         0.0   \n",
       "7656               others  2224.929         0.0        245.0         0.0   \n",
       "7657                  all   39652.2         0.0    3886530.0  15056214.0   \n",
       "\n",
       "      Customer Area (m2) Opening hours  \n",
       "0          NaN    953.04        Type A  \n",
       "1          NaN    720.48        Type A  \n",
       "2          NaN    966.72        Type A  \n",
       "3          NaN   1053.36        Type A  \n",
       "4          NaN   1053.36        Type A  \n",
       "...        ...       ...           ...  \n",
       "7653       NaN       #NV        Type A  \n",
       "7654       NaN       #NV        Type A  \n",
       "7655       NaN       #NV        Type A  \n",
       "7656       NaN       #NV        Type A  \n",
       "7657       NaN       #NV        Type A  \n",
       "\n",
       "[7658 rows x 14 columns]"
      ]
     },
     "execution_count": 85,
     "metadata": {},
     "output_type": "execute_result"
    }
   ],
   "source": [
    "a4=pd.read_csv(r\"C:\\Users\\user\\Downloads\\6_Salesworkload1.csv\")\n",
    "a4"
   ]
  },
  {
   "cell_type": "markdown",
   "id": "c8deff9a",
   "metadata": {},
   "source": [
    "# a) Find mean, median, mode and describe"
   ]
  },
  {
   "cell_type": "code",
   "execution_count": 86,
   "id": "b81fbbd5",
   "metadata": {},
   "outputs": [
    {
     "name": "stdout",
     "output_type": "stream",
     "text": [
      "Time index     5.000000e+00\n",
      "StoreID        6.199522e+04\n",
      "Dept_ID        9.470588e+00\n",
      "HoursLease     2.203608e+01\n",
      "Sales units    1.076471e+06\n",
      "Turnover       3.721393e+06\n",
      "Customer                NaN\n",
      "dtype: float64\n"
     ]
    }
   ],
   "source": [
    "print(a4.mean())"
   ]
  },
  {
   "cell_type": "code",
   "execution_count": 87,
   "id": "3d3842f9",
   "metadata": {},
   "outputs": [
    {
     "name": "stdout",
     "output_type": "stream",
     "text": [
      "Time index          5.0\n",
      "StoreID         75400.5\n",
      "Dept_ID             9.0\n",
      "HoursLease          0.0\n",
      "Sales units    293230.0\n",
      "Turnover       931957.5\n",
      "Customer            NaN\n",
      "dtype: float64\n"
     ]
    }
   ],
   "source": [
    "print(a4.median())"
   ]
  },
  {
   "cell_type": "code",
   "execution_count": 88,
   "id": "f9c448c0",
   "metadata": {},
   "outputs": [
    {
     "name": "stdout",
     "output_type": "stream",
     "text": [
      "   MonthYear  Time index         Country  StoreID             City  Dept_ID  \\\n",
      "0    01.2017         1.0          France  12227.0      Aalborg (I)      1.0   \n",
      "1    02.2017         2.0         Germany  15552.0     Aalborg (II)      2.0   \n",
      "2    03.2017         3.0  United Kingdom  16927.0        Amsterdam      3.0   \n",
      "3    04.2017         4.0             NaN  17647.0          Antwerp      4.0   \n",
      "4    05.2017         5.0             NaN  18808.0    Barcelona (I)      5.0   \n",
      "5    06.2017         6.0             NaN  19000.0   Barcelona (II)      6.0   \n",
      "6    10.2016         7.0             NaN  19340.0       Berlin (I)      7.0   \n",
      "7    11.2016         8.0             NaN  19769.0      Berlin (II)      8.0   \n",
      "8    12.2016         9.0             NaN  20166.0           Bilbao      9.0   \n",
      "9        NaN         NaN             NaN  20891.0       Birmingham     11.0   \n",
      "10       NaN         NaN             NaN  22117.0          Bologna     12.0   \n",
      "11       NaN         NaN             NaN  23623.0         Bordeaux     13.0   \n",
      "12       NaN         NaN             NaN  29650.0             Brno     14.0   \n",
      "13       NaN         NaN             NaN  32949.0     Brussels (I)     15.0   \n",
      "14       NaN         NaN             NaN  34378.0    Brussels (II)     16.0   \n",
      "15       NaN         NaN             NaN  38560.0          Cologne     17.0   \n",
      "16       NaN         NaN             NaN  38976.0   Copenhagen (I)     18.0   \n",
      "17       NaN         NaN             NaN  42367.0  Copenhagen (II)      NaN   \n",
      "18       NaN         NaN             NaN  45583.0         Den Haag      NaN   \n",
      "19       NaN         NaN             NaN  63354.0        Frankfurt      NaN   \n",
      "20       NaN         NaN             NaN  64983.0       Gothenburg      NaN   \n",
      "21       NaN         NaN             NaN  71991.0        Groningen      NaN   \n",
      "22       NaN         NaN             NaN  73422.0          Hamburg      NaN   \n",
      "23       NaN         NaN             NaN  73762.0           Krakow      NaN   \n",
      "24       NaN         NaN             NaN  73949.0        Leicester      NaN   \n",
      "25       NaN         NaN             NaN  76852.0        Liverpool      NaN   \n",
      "26       NaN         NaN             NaN  77348.0       London (I)      NaN   \n",
      "27       NaN         NaN             NaN  78325.0      London (II)      NaN   \n",
      "28       NaN         NaN             NaN  78450.0             Lyon      NaN   \n",
      "29       NaN         NaN             NaN  79785.0       Madrid (I)      NaN   \n",
      "30       NaN         NaN             NaN  81473.0      Madrid (II)      NaN   \n",
      "31       NaN         NaN             NaN  83160.0            Malmö      NaN   \n",
      "32       NaN         NaN             NaN  85124.0       Manchester      NaN   \n",
      "33       NaN         NaN             NaN  85321.0        Marseille      NaN   \n",
      "34       NaN         NaN             NaN  85696.0           Milano      NaN   \n",
      "35       NaN         NaN             NaN  86089.0           Munich      NaN   \n",
      "36       NaN         NaN             NaN  86208.0           Nantes      NaN   \n",
      "37       NaN         NaN             NaN  87703.0           Napoli      NaN   \n",
      "38       NaN         NaN             NaN  88253.0          Ostrava      NaN   \n",
      "39       NaN         NaN             NaN  88750.0        Paris (I)      NaN   \n",
      "40       NaN         NaN             NaN  88994.0       Paris (II)      NaN   \n",
      "41       NaN         NaN             NaN  90992.0           Poznan      NaN   \n",
      "42       NaN         NaN             NaN  91973.0       Prague (I)      NaN   \n",
      "43       NaN         NaN             NaN  93033.0      Prague (II)      NaN   \n",
      "44       NaN         NaN             NaN  94153.0         Rome (I)      NaN   \n",
      "45       NaN         NaN             NaN  94882.0        Rome (II)      NaN   \n",
      "46       NaN         NaN             NaN  95434.0        Rotterdam      NaN   \n",
      "47       NaN         NaN             NaN  96493.0        Stockholm      NaN   \n",
      "48       NaN         NaN             NaN  96857.0       Warsaw (I)      NaN   \n",
      "49       NaN         NaN             NaN  98422.0      Warsaw (II)      NaN   \n",
      "\n",
      "             Dept. Name HoursOwn  HoursLease  Sales units  Turnover  Customer  \\\n",
      "0                 Admin   47.205         0.0          0.0       0.0       NaN   \n",
      "1              Checkout      NaN         NaN          NaN       NaN       NaN   \n",
      "2              Clothing      NaN         NaN          NaN       NaN       NaN   \n",
      "3     Customer Services      NaN         NaN          NaN       NaN       NaN   \n",
      "4              Delivery      NaN         NaN          NaN       NaN       NaN   \n",
      "5                   Dry      NaN         NaN          NaN       NaN       NaN   \n",
      "6                  Fish      NaN         NaN          NaN       NaN       NaN   \n",
      "7                  Food      NaN         NaN          NaN       NaN       NaN   \n",
      "8                Frozen      NaN         NaN          NaN       NaN       NaN   \n",
      "9   Fruits & Vegetables      NaN         NaN          NaN       NaN       NaN   \n",
      "10             Hardware      NaN         NaN          NaN       NaN       NaN   \n",
      "11            Household      NaN         NaN          NaN       NaN       NaN   \n",
      "12                 Meat      NaN         NaN          NaN       NaN       NaN   \n",
      "13             Non Food      NaN         NaN          NaN       NaN       NaN   \n",
      "14                  all      NaN         NaN          NaN       NaN       NaN   \n",
      "15                other      NaN         NaN          NaN       NaN       NaN   \n",
      "16               others      NaN         NaN          NaN       NaN       NaN   \n",
      "17                  NaN      NaN         NaN          NaN       NaN       NaN   \n",
      "18                  NaN      NaN         NaN          NaN       NaN       NaN   \n",
      "19                  NaN      NaN         NaN          NaN       NaN       NaN   \n",
      "20                  NaN      NaN         NaN          NaN       NaN       NaN   \n",
      "21                  NaN      NaN         NaN          NaN       NaN       NaN   \n",
      "22                  NaN      NaN         NaN          NaN       NaN       NaN   \n",
      "23                  NaN      NaN         NaN          NaN       NaN       NaN   \n",
      "24                  NaN      NaN         NaN          NaN       NaN       NaN   \n",
      "25                  NaN      NaN         NaN          NaN       NaN       NaN   \n",
      "26                  NaN      NaN         NaN          NaN       NaN       NaN   \n",
      "27                  NaN      NaN         NaN          NaN       NaN       NaN   \n",
      "28                  NaN      NaN         NaN          NaN       NaN       NaN   \n",
      "29                  NaN      NaN         NaN          NaN       NaN       NaN   \n",
      "30                  NaN      NaN         NaN          NaN       NaN       NaN   \n",
      "31                  NaN      NaN         NaN          NaN       NaN       NaN   \n",
      "32                  NaN      NaN         NaN          NaN       NaN       NaN   \n",
      "33                  NaN      NaN         NaN          NaN       NaN       NaN   \n",
      "34                  NaN      NaN         NaN          NaN       NaN       NaN   \n",
      "35                  NaN      NaN         NaN          NaN       NaN       NaN   \n",
      "36                  NaN      NaN         NaN          NaN       NaN       NaN   \n",
      "37                  NaN      NaN         NaN          NaN       NaN       NaN   \n",
      "38                  NaN      NaN         NaN          NaN       NaN       NaN   \n",
      "39                  NaN      NaN         NaN          NaN       NaN       NaN   \n",
      "40                  NaN      NaN         NaN          NaN       NaN       NaN   \n",
      "41                  NaN      NaN         NaN          NaN       NaN       NaN   \n",
      "42                  NaN      NaN         NaN          NaN       NaN       NaN   \n",
      "43                  NaN      NaN         NaN          NaN       NaN       NaN   \n",
      "44                  NaN      NaN         NaN          NaN       NaN       NaN   \n",
      "45                  NaN      NaN         NaN          NaN       NaN       NaN   \n",
      "46                  NaN      NaN         NaN          NaN       NaN       NaN   \n",
      "47                  NaN      NaN         NaN          NaN       NaN       NaN   \n",
      "48                  NaN      NaN         NaN          NaN       NaN       NaN   \n",
      "49                  NaN      NaN         NaN          NaN       NaN       NaN   \n",
      "\n",
      "   Area (m2) Opening hours  \n",
      "0          0        Type A  \n",
      "1        NaN           NaN  \n",
      "2        NaN           NaN  \n",
      "3        NaN           NaN  \n",
      "4        NaN           NaN  \n",
      "5        NaN           NaN  \n",
      "6        NaN           NaN  \n",
      "7        NaN           NaN  \n",
      "8        NaN           NaN  \n",
      "9        NaN           NaN  \n",
      "10       NaN           NaN  \n",
      "11       NaN           NaN  \n",
      "12       NaN           NaN  \n",
      "13       NaN           NaN  \n",
      "14       NaN           NaN  \n",
      "15       NaN           NaN  \n",
      "16       NaN           NaN  \n",
      "17       NaN           NaN  \n",
      "18       NaN           NaN  \n",
      "19       NaN           NaN  \n",
      "20       NaN           NaN  \n",
      "21       NaN           NaN  \n",
      "22       NaN           NaN  \n",
      "23       NaN           NaN  \n",
      "24       NaN           NaN  \n",
      "25       NaN           NaN  \n",
      "26       NaN           NaN  \n",
      "27       NaN           NaN  \n",
      "28       NaN           NaN  \n",
      "29       NaN           NaN  \n",
      "30       NaN           NaN  \n",
      "31       NaN           NaN  \n",
      "32       NaN           NaN  \n",
      "33       NaN           NaN  \n",
      "34       NaN           NaN  \n",
      "35       NaN           NaN  \n",
      "36       NaN           NaN  \n",
      "37       NaN           NaN  \n",
      "38       NaN           NaN  \n",
      "39       NaN           NaN  \n",
      "40       NaN           NaN  \n",
      "41       NaN           NaN  \n",
      "42       NaN           NaN  \n",
      "43       NaN           NaN  \n",
      "44       NaN           NaN  \n",
      "45       NaN           NaN  \n",
      "46       NaN           NaN  \n",
      "47       NaN           NaN  \n",
      "48       NaN           NaN  \n",
      "49       NaN           NaN  \n"
     ]
    }
   ],
   "source": [
    "print(a4.mode())"
   ]
  },
  {
   "cell_type": "code",
   "execution_count": 89,
   "id": "73820fbd",
   "metadata": {},
   "outputs": [
    {
     "name": "stdout",
     "output_type": "stream",
     "text": [
      "        Time index       StoreID      Dept_ID   HoursLease   Sales units  \\\n",
      "count  7650.000000   7650.000000  7650.000000  7650.000000  7.650000e+03   \n",
      "mean      5.000000  61995.220000     9.470588    22.036078  1.076471e+06   \n",
      "std       2.582158  29924.581631     5.337429   133.299513  1.728113e+06   \n",
      "min       1.000000  12227.000000     1.000000     0.000000  0.000000e+00   \n",
      "25%       3.000000  29650.000000     5.000000     0.000000  5.457125e+04   \n",
      "50%       5.000000  75400.500000     9.000000     0.000000  2.932300e+05   \n",
      "75%       7.000000  87703.000000    14.000000     0.000000  9.175075e+05   \n",
      "max       9.000000  98422.000000    18.000000  3984.000000  1.124296e+07   \n",
      "\n",
      "           Turnover  Customer  \n",
      "count  7.650000e+03       0.0  \n",
      "mean   3.721393e+06       NaN  \n",
      "std    6.003380e+06       NaN  \n",
      "min    0.000000e+00       NaN  \n",
      "25%    2.726798e+05       NaN  \n",
      "50%    9.319575e+05       NaN  \n",
      "75%    3.264432e+06       NaN  \n",
      "max    4.271739e+07       NaN  \n"
     ]
    }
   ],
   "source": [
    "print(a4.describe())"
   ]
  },
  {
   "cell_type": "markdown",
   "id": "29577c52",
   "metadata": {},
   "source": [
    "# b) Find sum(), cumsum(), count, min and max values"
   ]
  },
  {
   "cell_type": "code",
   "execution_count": 91,
   "id": "0c2cc56b",
   "metadata": {},
   "outputs": [
    {
     "name": "stdout",
     "output_type": "stream",
     "text": [
      "StoreID    474263433.0\n",
      "Dept_ID        72450.0\n",
      "dtype: float64\n"
     ]
    }
   ],
   "source": [
    "b4=a4[['StoreID','Dept_ID']]\n",
    "print(b4.sum())"
   ]
  },
  {
   "cell_type": "code",
   "execution_count": 93,
   "id": "b755ae07",
   "metadata": {},
   "outputs": [
    {
     "name": "stdout",
     "output_type": "stream",
     "text": [
      "          StoreID  Dept_ID\n",
      "0         88253.0      1.0\n",
      "1        176506.0      3.0\n",
      "2        264759.0      6.0\n",
      "3        353012.0     10.0\n",
      "4        441265.0     15.0\n",
      "...           ...      ...\n",
      "7653  474144833.0  72388.0\n",
      "7654  474174483.0  72404.0\n",
      "7655  474204133.0  72415.0\n",
      "7656  474233783.0  72432.0\n",
      "7657  474263433.0  72450.0\n",
      "\n",
      "[7658 rows x 2 columns]\n"
     ]
    }
   ],
   "source": [
    "print(b4.cumsum())"
   ]
  },
  {
   "cell_type": "code",
   "execution_count": 94,
   "id": "f833eeab",
   "metadata": {},
   "outputs": [
    {
     "name": "stdout",
     "output_type": "stream",
     "text": [
      "StoreID    7650\n",
      "Dept_ID    7650\n",
      "dtype: int64\n"
     ]
    }
   ],
   "source": [
    "print(b4.count())"
   ]
  },
  {
   "cell_type": "code",
   "execution_count": 95,
   "id": "fcb71991",
   "metadata": {},
   "outputs": [
    {
     "name": "stdout",
     "output_type": "stream",
     "text": [
      "StoreID    12227.0\n",
      "Dept_ID        1.0\n",
      "dtype: float64\n"
     ]
    }
   ],
   "source": [
    "print(b4.min())"
   ]
  },
  {
   "cell_type": "code",
   "execution_count": 96,
   "id": "ba0b3277",
   "metadata": {},
   "outputs": [
    {
     "name": "stdout",
     "output_type": "stream",
     "text": [
      "StoreID    98422.0\n",
      "Dept_ID       18.0\n",
      "dtype: float64\n"
     ]
    }
   ],
   "source": [
    "print(b4.max())"
   ]
  },
  {
   "cell_type": "code",
   "execution_count": 101,
   "id": "d2b93fd5",
   "metadata": {},
   "outputs": [
    {
     "data": {
      "text/html": [
       "<div>\n",
       "<style scoped>\n",
       "    .dataframe tbody tr th:only-of-type {\n",
       "        vertical-align: middle;\n",
       "    }\n",
       "\n",
       "    .dataframe tbody tr th {\n",
       "        vertical-align: top;\n",
       "    }\n",
       "\n",
       "    .dataframe thead th {\n",
       "        text-align: right;\n",
       "    }\n",
       "</style>\n",
       "<table border=\"1\" class=\"dataframe\">\n",
       "  <thead>\n",
       "    <tr style=\"text-align: right;\">\n",
       "      <th></th>\n",
       "      <th>MonthYear</th>\n",
       "      <th>Time index</th>\n",
       "      <th>Country</th>\n",
       "      <th>StoreID</th>\n",
       "      <th>City</th>\n",
       "      <th>Dept_ID</th>\n",
       "      <th>Dept. Name</th>\n",
       "      <th>HoursOwn</th>\n",
       "      <th>HoursLease</th>\n",
       "      <th>Sales units</th>\n",
       "      <th>Turnover</th>\n",
       "      <th>Customer</th>\n",
       "      <th>Area (m2)</th>\n",
       "      <th>Opening hours</th>\n",
       "    </tr>\n",
       "  </thead>\n",
       "  <tbody>\n",
       "    <tr>\n",
       "      <th>0</th>\n",
       "      <td>10.2016</td>\n",
       "      <td>1.0</td>\n",
       "      <td>United Kingdom</td>\n",
       "      <td>88253.0</td>\n",
       "      <td>London (I)</td>\n",
       "      <td>1.0</td>\n",
       "      <td>Dry</td>\n",
       "      <td>3184.764</td>\n",
       "      <td>0.0</td>\n",
       "      <td>398560.0</td>\n",
       "      <td>1226244.0</td>\n",
       "      <td>7.0</td>\n",
       "      <td>953.04</td>\n",
       "      <td>Type A</td>\n",
       "    </tr>\n",
       "    <tr>\n",
       "      <th>1</th>\n",
       "      <td>10.2016</td>\n",
       "      <td>1.0</td>\n",
       "      <td>United Kingdom</td>\n",
       "      <td>88253.0</td>\n",
       "      <td>London (I)</td>\n",
       "      <td>2.0</td>\n",
       "      <td>Frozen</td>\n",
       "      <td>1582.941</td>\n",
       "      <td>0.0</td>\n",
       "      <td>82725.0</td>\n",
       "      <td>387810.0</td>\n",
       "      <td>7.0</td>\n",
       "      <td>720.48</td>\n",
       "      <td>Type A</td>\n",
       "    </tr>\n",
       "    <tr>\n",
       "      <th>2</th>\n",
       "      <td>10.2016</td>\n",
       "      <td>1.0</td>\n",
       "      <td>United Kingdom</td>\n",
       "      <td>88253.0</td>\n",
       "      <td>London (I)</td>\n",
       "      <td>3.0</td>\n",
       "      <td>other</td>\n",
       "      <td>47.205</td>\n",
       "      <td>0.0</td>\n",
       "      <td>438400.0</td>\n",
       "      <td>654657.0</td>\n",
       "      <td>7.0</td>\n",
       "      <td>966.72</td>\n",
       "      <td>Type A</td>\n",
       "    </tr>\n",
       "    <tr>\n",
       "      <th>3</th>\n",
       "      <td>10.2016</td>\n",
       "      <td>1.0</td>\n",
       "      <td>United Kingdom</td>\n",
       "      <td>88253.0</td>\n",
       "      <td>London (I)</td>\n",
       "      <td>4.0</td>\n",
       "      <td>Fish</td>\n",
       "      <td>1623.852</td>\n",
       "      <td>0.0</td>\n",
       "      <td>309425.0</td>\n",
       "      <td>499434.0</td>\n",
       "      <td>7.0</td>\n",
       "      <td>1053.36</td>\n",
       "      <td>Type A</td>\n",
       "    </tr>\n",
       "    <tr>\n",
       "      <th>4</th>\n",
       "      <td>10.2016</td>\n",
       "      <td>1.0</td>\n",
       "      <td>United Kingdom</td>\n",
       "      <td>88253.0</td>\n",
       "      <td>London (I)</td>\n",
       "      <td>5.0</td>\n",
       "      <td>Fruits &amp; Vegetables</td>\n",
       "      <td>1759.173</td>\n",
       "      <td>0.0</td>\n",
       "      <td>165515.0</td>\n",
       "      <td>329397.0</td>\n",
       "      <td>7.0</td>\n",
       "      <td>1053.36</td>\n",
       "      <td>Type A</td>\n",
       "    </tr>\n",
       "    <tr>\n",
       "      <th>...</th>\n",
       "      <td>...</td>\n",
       "      <td>...</td>\n",
       "      <td>...</td>\n",
       "      <td>...</td>\n",
       "      <td>...</td>\n",
       "      <td>...</td>\n",
       "      <td>...</td>\n",
       "      <td>...</td>\n",
       "      <td>...</td>\n",
       "      <td>...</td>\n",
       "      <td>...</td>\n",
       "      <td>...</td>\n",
       "      <td>...</td>\n",
       "      <td>...</td>\n",
       "    </tr>\n",
       "    <tr>\n",
       "      <th>7653</th>\n",
       "      <td>06.2017</td>\n",
       "      <td>9.0</td>\n",
       "      <td>Sweden</td>\n",
       "      <td>29650.0</td>\n",
       "      <td>Gothenburg</td>\n",
       "      <td>12.0</td>\n",
       "      <td>Checkout</td>\n",
       "      <td>6322.323</td>\n",
       "      <td>0.0</td>\n",
       "      <td>3886530.0</td>\n",
       "      <td>14538825.0</td>\n",
       "      <td>7.0</td>\n",
       "      <td>#NV</td>\n",
       "      <td>Type A</td>\n",
       "    </tr>\n",
       "    <tr>\n",
       "      <th>7654</th>\n",
       "      <td>06.2017</td>\n",
       "      <td>9.0</td>\n",
       "      <td>Sweden</td>\n",
       "      <td>29650.0</td>\n",
       "      <td>Gothenburg</td>\n",
       "      <td>16.0</td>\n",
       "      <td>Customer Services</td>\n",
       "      <td>4270.479</td>\n",
       "      <td>0.0</td>\n",
       "      <td>245.0</td>\n",
       "      <td>0.0</td>\n",
       "      <td>7.0</td>\n",
       "      <td>#NV</td>\n",
       "      <td>Type A</td>\n",
       "    </tr>\n",
       "    <tr>\n",
       "      <th>7655</th>\n",
       "      <td>06.2017</td>\n",
       "      <td>9.0</td>\n",
       "      <td>Sweden</td>\n",
       "      <td>29650.0</td>\n",
       "      <td>Gothenburg</td>\n",
       "      <td>11.0</td>\n",
       "      <td>Delivery</td>\n",
       "      <td>0</td>\n",
       "      <td>0.0</td>\n",
       "      <td>0.0</td>\n",
       "      <td>0.0</td>\n",
       "      <td>7.0</td>\n",
       "      <td>#NV</td>\n",
       "      <td>Type A</td>\n",
       "    </tr>\n",
       "    <tr>\n",
       "      <th>7656</th>\n",
       "      <td>06.2017</td>\n",
       "      <td>9.0</td>\n",
       "      <td>Sweden</td>\n",
       "      <td>29650.0</td>\n",
       "      <td>Gothenburg</td>\n",
       "      <td>17.0</td>\n",
       "      <td>others</td>\n",
       "      <td>2224.929</td>\n",
       "      <td>0.0</td>\n",
       "      <td>245.0</td>\n",
       "      <td>0.0</td>\n",
       "      <td>7.0</td>\n",
       "      <td>#NV</td>\n",
       "      <td>Type A</td>\n",
       "    </tr>\n",
       "    <tr>\n",
       "      <th>7657</th>\n",
       "      <td>06.2017</td>\n",
       "      <td>9.0</td>\n",
       "      <td>Sweden</td>\n",
       "      <td>29650.0</td>\n",
       "      <td>Gothenburg</td>\n",
       "      <td>18.0</td>\n",
       "      <td>all</td>\n",
       "      <td>39652.2</td>\n",
       "      <td>0.0</td>\n",
       "      <td>3886530.0</td>\n",
       "      <td>15056214.0</td>\n",
       "      <td>7.0</td>\n",
       "      <td>#NV</td>\n",
       "      <td>Type A</td>\n",
       "    </tr>\n",
       "  </tbody>\n",
       "</table>\n",
       "<p>7658 rows × 14 columns</p>\n",
       "</div>"
      ],
      "text/plain": [
       "     MonthYear  Time index         Country  StoreID        City  Dept_ID  \\\n",
       "0      10.2016         1.0  United Kingdom  88253.0  London (I)      1.0   \n",
       "1      10.2016         1.0  United Kingdom  88253.0  London (I)      2.0   \n",
       "2      10.2016         1.0  United Kingdom  88253.0  London (I)      3.0   \n",
       "3      10.2016         1.0  United Kingdom  88253.0  London (I)      4.0   \n",
       "4      10.2016         1.0  United Kingdom  88253.0  London (I)      5.0   \n",
       "...        ...         ...             ...      ...         ...      ...   \n",
       "7653   06.2017         9.0          Sweden  29650.0  Gothenburg     12.0   \n",
       "7654   06.2017         9.0          Sweden  29650.0  Gothenburg     16.0   \n",
       "7655   06.2017         9.0          Sweden  29650.0  Gothenburg     11.0   \n",
       "7656   06.2017         9.0          Sweden  29650.0  Gothenburg     17.0   \n",
       "7657   06.2017         9.0          Sweden  29650.0  Gothenburg     18.0   \n",
       "\n",
       "               Dept. Name  HoursOwn  HoursLease  Sales units    Turnover  \\\n",
       "0                     Dry  3184.764         0.0     398560.0   1226244.0   \n",
       "1                  Frozen  1582.941         0.0      82725.0    387810.0   \n",
       "2                   other    47.205         0.0     438400.0    654657.0   \n",
       "3                    Fish  1623.852         0.0     309425.0    499434.0   \n",
       "4     Fruits & Vegetables  1759.173         0.0     165515.0    329397.0   \n",
       "...                   ...       ...         ...          ...         ...   \n",
       "7653             Checkout  6322.323         0.0    3886530.0  14538825.0   \n",
       "7654    Customer Services  4270.479         0.0        245.0         0.0   \n",
       "7655             Delivery         0         0.0          0.0         0.0   \n",
       "7656               others  2224.929         0.0        245.0         0.0   \n",
       "7657                  all   39652.2         0.0    3886530.0  15056214.0   \n",
       "\n",
       "      Customer Area (m2) Opening hours  \n",
       "0          7.0    953.04        Type A  \n",
       "1          7.0    720.48        Type A  \n",
       "2          7.0    966.72        Type A  \n",
       "3          7.0   1053.36        Type A  \n",
       "4          7.0   1053.36        Type A  \n",
       "...        ...       ...           ...  \n",
       "7653       7.0       #NV        Type A  \n",
       "7654       7.0       #NV        Type A  \n",
       "7655       7.0       #NV        Type A  \n",
       "7656       7.0       #NV        Type A  \n",
       "7657       7.0       #NV        Type A  \n",
       "\n",
       "[7658 rows x 14 columns]"
      ]
     },
     "execution_count": 101,
     "metadata": {},
     "output_type": "execute_result"
    }
   ],
   "source": [
    "p=a4.fillna(value=7)\n",
    "p"
   ]
  },
  {
   "cell_type": "markdown",
   "id": "ad31831d",
   "metadata": {},
   "source": [
    "# c) Find covariance and correlation (spearman and pearsons)"
   ]
  },
  {
   "cell_type": "code",
   "execution_count": 102,
   "id": "36c708e1",
   "metadata": {},
   "outputs": [
    {
     "name": "stdout",
     "output_type": "stream",
     "text": [
      "[[3.60173739e+13 1.89289801e+09]\n",
      " [1.89289801e+09 8.98555466e+08]]\n"
     ]
    }
   ],
   "source": [
    "x=p['Turnover']\n",
    "y=p['StoreID']\n",
    "print(cov(x,y))"
   ]
  },
  {
   "cell_type": "code",
   "execution_count": 103,
   "id": "d66fa2fb",
   "metadata": {},
   "outputs": [
    {
     "name": "stdout",
     "output_type": "stream",
     "text": [
      "(0.01052201088022699, 0.35722987709174453)\n"
     ]
    }
   ],
   "source": [
    "print(pearsonr(x,y))"
   ]
  },
  {
   "cell_type": "code",
   "execution_count": 104,
   "id": "bb72120c",
   "metadata": {},
   "outputs": [
    {
     "name": "stdout",
     "output_type": "stream",
     "text": [
      "SpearmanrResult(correlation=0.025346029206713392, pvalue=0.026553112421130735)\n"
     ]
    }
   ],
   "source": [
    "print(spearmanr(x,y))"
   ]
  },
  {
   "cell_type": "code",
   "execution_count": null,
   "id": "563e1ca9",
   "metadata": {},
   "outputs": [],
   "source": []
  }
 ],
 "metadata": {
  "kernelspec": {
   "display_name": "Python 3",
   "language": "python",
   "name": "python3"
  },
  "language_info": {
   "codemirror_mode": {
    "name": "ipython",
    "version": 3
   },
   "file_extension": ".py",
   "mimetype": "text/x-python",
   "name": "python",
   "nbconvert_exporter": "python",
   "pygments_lexer": "ipython3",
   "version": "3.8.8"
  }
 },
 "nbformat": 4,
 "nbformat_minor": 5
}
